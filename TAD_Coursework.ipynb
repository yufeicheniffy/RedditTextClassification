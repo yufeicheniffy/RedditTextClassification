{
  "nbformat": 4,
  "nbformat_minor": 0,
  "metadata": {
    "colab": {
      "name": "TAD Coursework.ipynb",
      "version": "0.3.2",
      "provenance": [],
      "collapsed_sections": [
        "6vC9LV39GXSG",
        "41pXkBNNGcHJ",
        "vxf-p6gLc1Aq",
        "A_JcY3cBwrcH",
        "D-G938e8D5qn"
      ]
    },
    "kernelspec": {
      "name": "python3",
      "display_name": "Python 3"
    },
    "accelerator": "TPU"
  },
  "cells": [
    {
      "metadata": {
        "id": "2gv2i9fNDvrg",
        "colab_type": "text"
      },
      "cell_type": "markdown",
      "source": [
        "## Part A: Subreddit Prediction ##\n",
        "\n",
        "### Q1:baseline"
      ]
    },
    {
      "metadata": {
        "id": "6vC9LV39GXSG",
        "colab_type": "text"
      },
      "cell_type": "markdown",
      "source": [
        "#### 1. data load "
      ]
    },
    {
      "metadata": {
        "id": "ZG9BpbQt3-ko",
        "colab_type": "code",
        "outputId": "fa6e7b06-21ba-4594-a86c-0ff9f775b354",
        "colab": {
          "base_uri": "https://localhost:8080/",
          "height": 119
        }
      },
      "cell_type": "code",
      "source": [
        "subreddit_train = \"coursework_subreddit_train.json\"\n",
        "subreddit_test = \"coursework_subreddit_test.json\"\n",
        "\n",
        "!gsutil cp gs://textasdata/coursework/coursework_subreddit_train.json $subreddit_train \n",
        "!gsutil cp gs://textasdata/coursework/coursework_subreddit_test.json  $subreddit_test"
      ],
      "execution_count": 0,
      "outputs": [
        {
          "output_type": "stream",
          "text": [
            "Copying gs://textasdata/coursework/coursework_subreddit_train.json...\n",
            "/ [1 files][ 10.1 MiB/ 10.1 MiB]                                                \n",
            "Operation completed over 1 objects/10.1 MiB.                                     \n",
            "Copying gs://textasdata/coursework/coursework_subreddit_test.json...\n",
            "/ [1 files][  2.7 MiB/  2.7 MiB]                                                \n",
            "Operation completed over 1 objects/2.7 MiB.                                      \n"
          ],
          "name": "stdout"
        }
      ]
    },
    {
      "metadata": {
        "id": "iCEG8t6PC2f7",
        "colab_type": "code",
        "outputId": "faedacca-a7d3-459c-ff48-76784f0c5b9e",
        "colab": {
          "base_uri": "https://localhost:8080/",
          "height": 391
        }
      },
      "cell_type": "code",
      "source": [
        "import pandas as pd\n",
        "\n",
        "train_threads = pd.read_json(path_or_buf=subreddit_train, lines=True)\n",
        "print(list(train_threads.columns.values))\n",
        "print(train_threads.head())\n",
        "print(train_threads.size)"
      ],
      "execution_count": 0,
      "outputs": [
        {
          "output_type": "stream",
          "text": [
            "['is_self_post', 'posts', 'subreddit', 'title', 'url']\n",
            "   is_self_post                                              posts  \\\n",
            "0           1.0  [{'body': 'I think everyone has that one frien...   \n",
            "1           1.0  [{'body': 'I not 100% sure this is the right p...   \n",
            "2           1.0  [{'body': '', 'author': 'Leisure321', 'url': '...   \n",
            "3           1.0  [{'body': 'It's called 'forgetting things'.', ...   \n",
            "4           1.0  [{'body': 'How would I do this? I am looking t...   \n",
            "\n",
            "        subreddit                                              title  \\\n",
            "0   relationships  How do I [23F] communicate with my self-center...   \n",
            "1  summonerschool  What Cherry switch do you recommend for League...   \n",
            "2       askreddit                   Where do memes go when they die?   \n",
            "3           trees                     Some weird long term affects??   \n",
            "4        buildapc  Simple question: If I install Windows to a sta...   \n",
            "\n",
            "                                                 url  \n",
            "0  https://www.reddit.com/r/relationships/comment...  \n",
            "1  https://www.reddit.com/r/summonerschool/commen...  \n",
            "2  https://www.reddit.com/r/AskReddit/comments/4d...  \n",
            "3  https://www.reddit.com/r/trees/comments/1h300m...  \n",
            "4  https://www.reddit.com/r/buildapc/comments/jhb...  \n",
            "7280\n"
          ],
          "name": "stdout"
        }
      ]
    },
    {
      "metadata": {
        "id": "89UU3g27C8SZ",
        "colab_type": "code",
        "outputId": "c2eb2f19-4659-4af7-ce33-834086c33622",
        "colab": {
          "base_uri": "https://localhost:8080/",
          "height": 374
        }
      },
      "cell_type": "code",
      "source": [
        "test_threads = pd.read_json(path_or_buf=subreddit_test, lines=True)\n",
        "print(test_threads.head())\n",
        "print(test_threads.size)"
      ],
      "execution_count": 0,
      "outputs": [
        {
          "output_type": "stream",
          "text": [
            "   is_self_post                                              posts  \\\n",
            "0           1.0  [{'body': 'Was watching a VOD from last years ...   \n",
            "1           1.0  [{'body': 'Basically what the title says.', 'u...   \n",
            "2           1.0  [{'body': '', 'author': 'Daft-Punk', 'url': 'h...   \n",
            "3           1.0  [{'body': 'I start running this year. I do it ...   \n",
            "4           1.0  [{'body': '[deleted]', 'url': 'https://www.red...   \n",
            "\n",
            "       subreddit                                              title  \\\n",
            "0      starcraft  Just a reminder on how much SC2 has evolved th...   \n",
            "1    whowouldwin  Your Favorite Hero Now Has A Healing Factor As...   \n",
            "2      askreddit  If you could live anywhere in the world, where...   \n",
            "3      askreddit                   Do you ever get use to exercise?   \n",
            "4  tipofmytongue         [TOMT] [book] A scary french book for kids   \n",
            "\n",
            "                                                 url  \n",
            "0  https://www.reddit.com/r/starcraft/comments/mq...  \n",
            "1  https://www.reddit.com/r/whowouldwin/comments/...  \n",
            "2  https://www.reddit.com/r/AskReddit/comments/27...  \n",
            "3  https://www.reddit.com/r/AskReddit/comments/x9...  \n",
            "4  https://www.reddit.com/r/tipofmytongue/comment...  \n",
            "1825\n"
          ],
          "name": "stdout"
        }
      ]
    },
    {
      "metadata": {
        "id": "3Nl9qzazDQ_6",
        "colab_type": "code",
        "outputId": "40ada28d-9e97-4103-b959-db604e8b1fb5",
        "colab": {
          "base_uri": "https://localhost:8080/",
          "height": 527
        }
      },
      "cell_type": "code",
      "source": [
        "subreddit_counts = train_threads['subreddit'].value_counts()\n",
        "print(subreddit_counts.describe())\n",
        "top_subbreddits = subreddit_counts.nlargest(20)\n",
        "top_subbreddits_list = top_subbreddits.index.tolist()\n",
        "print(top_subbreddits)"
      ],
      "execution_count": 0,
      "outputs": [
        {
          "output_type": "stream",
          "text": [
            "count     20.000000\n",
            "mean      72.800000\n",
            "std       73.368285\n",
            "min       28.000000\n",
            "25%       36.250000\n",
            "50%       45.500000\n",
            "75%       63.750000\n",
            "max      334.000000\n",
            "Name: subreddit, dtype: float64\n",
            "askreddit               334\n",
            "leagueoflegends         196\n",
            "buildapc                131\n",
            "explainlikeimfive        82\n",
            "trees                    66\n",
            "techsupport              63\n",
            "gaming                   62\n",
            "pcmasterrace             62\n",
            "electronic_cigarette     59\n",
            "relationships            48\n",
            "tipofmytongue            43\n",
            "jailbreak                38\n",
            "hearthstone              38\n",
            "atheism                  37\n",
            "summonerschool           37\n",
            "reddit.com               34\n",
            "movies                   33\n",
            "whowouldwin              33\n",
            "personalfinance          32\n",
            "starcraft                28\n",
            "Name: subreddit, dtype: int64\n"
          ],
          "name": "stdout"
        }
      ]
    },
    {
      "metadata": {
        "id": "41pXkBNNGcHJ",
        "colab_type": "text"
      },
      "cell_type": "markdown",
      "source": [
        "#### 2. pre-process\n",
        "**split validation and test data**"
      ]
    },
    {
      "metadata": {
        "id": "A6UfFJh5KpNY",
        "colab_type": "code",
        "outputId": "50af1c49-d490-440f-ca63-f12c7cc84166",
        "colab": {
          "base_uri": "https://localhost:8080/",
          "height": 51
        }
      },
      "cell_type": "code",
      "source": [
        "print('Training set contains {:d} posts.'.format(len(train_labels)))\n",
        "print('Test set contains {:d} posts.'.format(len(test_labels)))"
      ],
      "execution_count": 0,
      "outputs": [
        {
          "output_type": "stream",
          "text": [
            "Training set contains 1456 posts.\n",
            "Test set contains 365 posts.\n"
          ],
          "name": "stdout"
        }
      ]
    },
    {
      "metadata": {
        "id": "VP5TtttZXpfP",
        "colab_type": "text"
      },
      "cell_type": "markdown",
      "source": [
        "**get the title, posts and authors**"
      ]
    },
    {
      "metadata": {
        "id": "b5cnzYfRYAF1",
        "colab_type": "code",
        "colab": {}
      },
      "cell_type": "code",
      "source": [
        "def extractfunc1(threads):\n",
        "  opdata=[]\n",
        "  for thread in threads.itertuples(index=True,name=\"pandas\"):\n",
        "    postsline=thread[2]\n",
        "    title=thread[4]\n",
        "    postext=\"\"\n",
        "    authors=\"\"\n",
        "    for post in postsline:\n",
        "      if post.get(\"body\")!=\"[deleted]\" and post.get(\"body\")!=None and post.get(\"author\")!=None:\n",
        "        postext+=post[\"body\"]+\" \"\n",
        "        authors+=post[\"author\"]+\" \"\n",
        "    opdata.append((title,postext,authors))\n",
        "  output=pd.DataFrame(opdata,columns=[\"title\",\"posts\",\"author\"])\n",
        "  return output\n",
        "    \n",
        "    "
      ],
      "execution_count": 0,
      "outputs": []
    },
    {
      "metadata": {
        "id": "Y89KJavVkaUe",
        "colab_type": "code",
        "colab": {}
      },
      "cell_type": "code",
      "source": [
        "train_data=extractfunc1(train_threads)\n",
        "test_data=extractfunc1(test_threads)\n",
        "train_data[\"subreddit\"]=train_threads['subreddit']\n",
        "test_data[\"subreddit\"]=test_threads['subreddit']"
      ],
      "execution_count": 0,
      "outputs": []
    },
    {
      "metadata": {
        "id": "-Qt_iHumvs4K",
        "colab_type": "code",
        "colab": {}
      },
      "cell_type": "code",
      "source": [
        "from sklearn import preprocessing\n",
        "le = preprocessing.LabelEncoder()\n",
        "le.fit(train_threads['subreddit'])\n",
        "train_labels = le.transform(train_threads['subreddit'])\n",
        "test_labels = le.transform(test_threads['subreddit'])"
      ],
      "execution_count": 0,
      "outputs": []
    },
    {
      "metadata": {
        "id": "co47zH7ZQX1z",
        "colab_type": "text"
      },
      "cell_type": "markdown",
      "source": [
        "**Tokenize functions**"
      ]
    },
    {
      "metadata": {
        "id": "3inSFujoQWkC",
        "colab_type": "code",
        "outputId": "e6f82e7d-0a82-4404-841a-7e45236ff978",
        "colab": {
          "base_uri": "https://localhost:8080/",
          "height": 190
        }
      },
      "cell_type": "code",
      "source": [
        "import spacy\n",
        "\n",
        "# Load the medium english model. \n",
        "# We will use this model to get embedding features for tokens later.\n",
        "!python -m spacy download en_core_web_lg\n",
        "\n",
        "nlp = spacy.load('en_core_web_lg', disable=['ner'])\n",
        "nlp.remove_pipe('tagger')\n",
        "nlp.remove_pipe('parser')"
      ],
      "execution_count": 0,
      "outputs": [
        {
          "output_type": "stream",
          "text": [
            "Requirement already satisfied: en_core_web_lg==2.0.0 from https://github.com/explosion/spacy-models/releases/download/en_core_web_lg-2.0.0/en_core_web_lg-2.0.0.tar.gz#egg=en_core_web_lg==2.0.0 in /usr/local/lib/python3.6/dist-packages (2.0.0)\n",
            "\n",
            "\u001b[93m    Linking successful\u001b[0m\n",
            "    /usr/local/lib/python3.6/dist-packages/en_core_web_lg -->\n",
            "    /usr/local/lib/python3.6/dist-packages/spacy/data/en_core_web_lg\n",
            "\n",
            "    You can now load the model via spacy.load('en_core_web_lg')\n",
            "\n"
          ],
          "name": "stdout"
        },
        {
          "output_type": "execute_result",
          "data": {
            "text/plain": [
              "('parser', <spacy.pipeline.DependencyParser at 0x7f208df21150>)"
            ]
          },
          "metadata": {
            "tags": []
          },
          "execution_count": 245
        }
      ]
    },
    {
      "metadata": {
        "id": "sWAHL_Ydr9Xg",
        "colab_type": "code",
        "colab": {}
      },
      "cell_type": "code",
      "source": [
        "#@Tokenize\n",
        "def spacy_tokenize(string):\n",
        "  tokens = list()\n",
        "  doc = nlp(string)\n",
        "  for token in doc:\n",
        "    tokens.append(token)\n",
        "  return tokens\n",
        "\n",
        "#@Normalize\n",
        "def normalize(tokens):\n",
        "  normalized_tokens = list()\n",
        "  for token in tokens:\n",
        "    normalized = token.lemma_.lower().strip()\n",
        "    if ((token.is_alpha or token.is_digit)):\n",
        "      normalized_tokens.append(normalized)\n",
        "  return normalized_tokens\n",
        "\n",
        "#@Tokenize and normalize\n",
        "def tokenize_normalize(string):\n",
        "  return normalize(spacy_tokenize(string))\n",
        "\n",
        "#@Author split\n",
        "def author_token(string):\n",
        "  return string.split(\" \")"
      ],
      "execution_count": 0,
      "outputs": []
    },
    {
      "metadata": {
        "id": "X6DOAHp90YQS",
        "colab_type": "code",
        "colab": {}
      },
      "cell_type": "code",
      "source": [
        "from sklearn.base import BaseEstimator, TransformerMixin\n",
        "\n",
        "class ItemSelector(BaseEstimator, TransformerMixin):\n",
        "    \"\"\"For data grouped by feature, select subset of data at a provided key.    \"\"\"\n",
        "\n",
        "    def __init__(self, key):\n",
        "        self.key = key\n",
        "\n",
        "    def fit(self, x, y=None):\n",
        "        return self\n",
        "\n",
        "    def transform(self, data_dict):\n",
        "        return data_dict[self.key]"
      ],
      "execution_count": 0,
      "outputs": []
    },
    {
      "metadata": {
        "id": "z79Ibflw0ZLq",
        "colab_type": "code",
        "colab": {}
      },
      "cell_type": "code",
      "source": [
        "from sklearn.pipeline import FeatureUnion\n",
        "from sklearn.pipeline import Pipeline\n",
        "from sklearn.feature_extraction.text import CountVectorizer\n",
        "from sklearn.feature_extraction.text import TfidfVectorizer\n",
        "\n",
        "# Use FeatureUnion to combine the features from text and summary\n",
        "one_hotpipe= Pipeline([\n",
        "        ('union', FeatureUnion(\n",
        "          transformer_list=[\n",
        "            ('title', Pipeline([\n",
        "              ('selector', ItemSelector(key='title')),\n",
        "              ('one-hot', CountVectorizer(tokenizer= tokenize_normalize, binary=True)), \n",
        "              ])),\n",
        "            ('posts', Pipeline([\n",
        "              ('selector', ItemSelector(key='posts')),\n",
        "              ('one-hot', CountVectorizer(tokenizer=tokenize_normalize, binary=True)), \n",
        "              ])),\n",
        "            ('author', Pipeline([\n",
        "              ('selector', ItemSelector(key='author')),\n",
        "              ('one-hot', CountVectorizer(tokenizer=author_token, binary=True)), \n",
        "              ])),\n",
        "        ])\n",
        "        )\n",
        "    ])\n",
        "\n",
        "tf_idfpipe= Pipeline([\n",
        "        ('union', FeatureUnion(\n",
        "          transformer_list=[\n",
        "            ('title', Pipeline([\n",
        "              ('selector', ItemSelector(key='title')),\n",
        "              ('tf-idf', TfidfVectorizer(tokenizer=tokenize_normalize, binary=False)), \n",
        "              ])),\n",
        "            ('posts', Pipeline([\n",
        "              ('selector', ItemSelector(key='posts')),\n",
        "              ('tf-idf', TfidfVectorizer(tokenizer=tokenize_normalize, binary=False)), \n",
        "              ])),\n",
        "            ('author', Pipeline([\n",
        "              ('selector', ItemSelector(key='author')),\n",
        "              ('tf-idf', TfidfVectorizer(tokenizer=author_token, binary=False)), \n",
        "              ])),\n",
        "        ])\n",
        "        )\n",
        "    ])"
      ],
      "execution_count": 0,
      "outputs": []
    },
    {
      "metadata": {
        "id": "hup5BkRq2qm-",
        "colab_type": "code",
        "colab": {}
      },
      "cell_type": "code",
      "source": [
        "train_onehot=one_hotpipe.fit_transform(train_data)\n",
        "test_onehot=one_hotpipe.transform(test_data)\n",
        "\n",
        "train_tfidf=tf_idfpipe.fit_transform(train_data)\n",
        "test_tfidf=tf_idfpipe.transform(test_data)"
      ],
      "execution_count": 0,
      "outputs": []
    },
    {
      "metadata": {
        "id": "9i0cjYJ3FqUP",
        "colab_type": "text"
      },
      "cell_type": "markdown",
      "source": [
        "#### 3. model build\n",
        "**LR**"
      ]
    },
    {
      "metadata": {
        "id": "I8NLkcMo5JLQ",
        "colab_type": "code",
        "colab": {}
      },
      "cell_type": "code",
      "source": [
        "from sklearn.metrics import classification_report\n",
        "from sklearn.metrics import confusion_matrix\n",
        "from sklearn.metrics import precision_score\n",
        "from sklearn.metrics import recall_score\n",
        "from sklearn.metrics import accuracy_score\n",
        "from sklearn.metrics import fbeta_score\n",
        "from sklearn.metrics import precision_recall_fscore_support\n",
        "\n",
        "def evaluation_summary(description, predictions, true_labels):\n",
        "  print(\"Evaluation for: \" + description)\n",
        "  #precision = precision_score(predictions, true_labels)\n",
        "  #recall = recall_score(predictions, true_labels)\n",
        "  accuracy = accuracy_score(predictions, true_labels)\n",
        "  precision,recall,f1,support=precision_recall_fscore_support(predictions, true_labels,average='macro',beta =1.0)\n",
        "  #f1 = fbeta_score(predictions, true_labels, 1) #1 means f_1 measure\n",
        "  print(\"Classifier '%s' has Acc=%0.3f P=%0.3f R=%0.3f F1=%0.3f\" % (description,accuracy,precision,recall,f1))\n",
        "  print(classification_report( predictions, true_labels, digits=3))\t\n",
        "  #print('\\nConfusion matrix:\\n',confusion_matrix(true_labels, predictions)) # Note the order here is true, predicted, odd.\n",
        "  print(\"================ENDOFEVALUATION=========================\\n\")\n",
        "\n",
        "  \n",
        "def model_evaluation(description, model, train_data, train_labels,test_data,test_labels):\n",
        "  print(\"training dataset evaluation:\\n\")\n",
        "  evaluation_summary(description, model.predict(train_data), train_labels) \n",
        "  print(\"test dataset evaluation:\\n\")\n",
        "  evaluation_summary(description, model.predict(test_data), test_labels) \n",
        "  \n"
      ],
      "execution_count": 0,
      "outputs": []
    },
    {
      "metadata": {
        "id": "u5zcd6NtF1Kv",
        "colab_type": "text"
      },
      "cell_type": "markdown",
      "source": [
        "one-hot"
      ]
    },
    {
      "metadata": {
        "id": "3brg-sgYtO8f",
        "colab_type": "code",
        "outputId": "41de3d84-7010-49a8-be84-0729dc61f186",
        "colab": {
          "base_uri": "https://localhost:8080/",
          "height": 119
        }
      },
      "cell_type": "code",
      "source": [
        "from sklearn.linear_model import LogisticRegression\n",
        "lr = LogisticRegression(solver='saga',multi_class=\"ovr\")\n",
        "lr.fit(train_onehot,train_labels)"
      ],
      "execution_count": 0,
      "outputs": [
        {
          "output_type": "stream",
          "text": [
            "/usr/local/lib/python3.6/dist-packages/sklearn/linear_model/sag.py:334: ConvergenceWarning: The max_iter was reached which means the coef_ did not converge\n",
            "  \"the coef_ did not converge\", ConvergenceWarning)\n"
          ],
          "name": "stderr"
        },
        {
          "output_type": "execute_result",
          "data": {
            "text/plain": [
              "LogisticRegression(C=1.0, class_weight=None, dual=False, fit_intercept=True,\n",
              "          intercept_scaling=1, max_iter=100, multi_class='ovr',\n",
              "          n_jobs=None, penalty='l2', random_state=None, solver='saga',\n",
              "          tol=0.0001, verbose=0, warm_start=False)"
            ]
          },
          "metadata": {
            "tags": []
          },
          "execution_count": 294
        }
      ]
    },
    {
      "metadata": {
        "id": "C5v0tFI2ELsP",
        "colab_type": "code",
        "outputId": "46883b1f-a10f-4e58-a3aa-337c8d3806f9",
        "colab": {
          "base_uri": "https://localhost:8080/",
          "height": 1173
        }
      },
      "cell_type": "code",
      "source": [
        "model_evaluation(\"LR onthot\",lr,train_onehot,train_labels,test_onehot,test_labels)"
      ],
      "execution_count": 0,
      "outputs": [
        {
          "output_type": "stream",
          "text": [
            "training dataset evaluation:\n",
            "\n",
            "Evaluation for: LR onthot\n",
            "Classifier 'LR onthot' has Acc=0.999 P=0.999 R=1.000 F1=0.999\n",
            "              precision    recall  f1-score   support\n",
            "\n",
            "           0      1.000     0.997     0.999       335\n",
            "           1      1.000     1.000     1.000        37\n",
            "           2      1.000     1.000     1.000       131\n",
            "           3      1.000     1.000     1.000        59\n",
            "           4      1.000     1.000     1.000        82\n",
            "           5      1.000     1.000     1.000        62\n",
            "           6      1.000     1.000     1.000        38\n",
            "           7      1.000     1.000     1.000        38\n",
            "           8      1.000     1.000     1.000       196\n",
            "           9      1.000     1.000     1.000        33\n",
            "          10      1.000     1.000     1.000        62\n",
            "          11      1.000     1.000     1.000        32\n",
            "          12      0.971     1.000     0.985        33\n",
            "          13      1.000     1.000     1.000        48\n",
            "          14      1.000     1.000     1.000        28\n",
            "          15      1.000     1.000     1.000        37\n",
            "          16      1.000     1.000     1.000        63\n",
            "          17      1.000     1.000     1.000        43\n",
            "          18      1.000     1.000     1.000        66\n",
            "          19      1.000     1.000     1.000        33\n",
            "\n",
            "   micro avg      0.999     0.999     0.999      1456\n",
            "   macro avg      0.999     1.000     0.999      1456\n",
            "weighted avg      0.999     0.999     0.999      1456\n",
            "\n",
            "================ENDOFEVALUATION=========================\n",
            "\n",
            "test dataset evaluation:\n",
            "\n",
            "Evaluation for: LR onthot\n",
            "Classifier 'LR onthot' has Acc=0.699 P=0.599 R=0.759 F1=0.633\n",
            "              precision    recall  f1-score   support\n",
            "\n",
            "           0      0.893     0.670     0.765       112\n",
            "           1      0.583     0.875     0.700         8\n",
            "           2      0.757     0.757     0.757        37\n",
            "           3      0.889     0.889     0.889         9\n",
            "           4      0.857     0.500     0.632        24\n",
            "           5      0.471     0.421     0.444        19\n",
            "           6      0.667     1.000     0.800        10\n",
            "           7      0.364     1.000     0.533         4\n",
            "           8      0.938     0.634     0.756        71\n",
            "           9      0.400     0.500     0.444         4\n",
            "          10      0.217     0.714     0.333         7\n",
            "          11      0.800     1.000     0.889         8\n",
            "          12      0.000     0.000     0.000         0\n",
            "          13      1.000     0.857     0.923         7\n",
            "          14      0.300     1.000     0.462         3\n",
            "          15      0.333     1.000     0.500         2\n",
            "          16      0.692     0.643     0.667        14\n",
            "          17      0.636     0.875     0.737         8\n",
            "          18      0.550     0.846     0.667        13\n",
            "          19      0.625     1.000     0.769         5\n",
            "\n",
            "   micro avg      0.699     0.699     0.699       365\n",
            "   macro avg      0.599     0.759     0.633       365\n",
            "weighted avg      0.789     0.699     0.719       365\n",
            "\n",
            "================ENDOFEVALUATION=========================\n",
            "\n"
          ],
          "name": "stdout"
        },
        {
          "output_type": "stream",
          "text": [
            "/usr/local/lib/python3.6/dist-packages/sklearn/metrics/classification.py:1145: UndefinedMetricWarning: Recall and F-score are ill-defined and being set to 0.0 in labels with no true samples.\n",
            "  'recall', 'true', average, warn_for)\n"
          ],
          "name": "stderr"
        }
      ]
    },
    {
      "metadata": {
        "id": "Y8LmCu-PF5Gw",
        "colab_type": "text"
      },
      "cell_type": "markdown",
      "source": [
        "tf-idf"
      ]
    },
    {
      "metadata": {
        "id": "lDXEWc2XF7tw",
        "colab_type": "code",
        "outputId": "0fbed2e0-bdd7-44af-e704-702d0893bc56",
        "colab": {
          "base_uri": "https://localhost:8080/",
          "height": 119
        }
      },
      "cell_type": "code",
      "source": [
        "from sklearn.linear_model import LogisticRegression\n",
        "lr = LogisticRegression(solver='saga',multi_class=\"ovr\")\n",
        "lr.fit(train_tfidf,train_labels)"
      ],
      "execution_count": 0,
      "outputs": [
        {
          "output_type": "stream",
          "text": [
            "/usr/local/lib/python3.6/dist-packages/sklearn/linear_model/sag.py:334: ConvergenceWarning: The max_iter was reached which means the coef_ did not converge\n",
            "  \"the coef_ did not converge\", ConvergenceWarning)\n"
          ],
          "name": "stderr"
        },
        {
          "output_type": "execute_result",
          "data": {
            "text/plain": [
              "LogisticRegression(C=1.0, class_weight=None, dual=False, fit_intercept=True,\n",
              "          intercept_scaling=1, max_iter=100, multi_class='ovr',\n",
              "          n_jobs=None, penalty='l2', random_state=None, solver='saga',\n",
              "          tol=0.0001, verbose=0, warm_start=False)"
            ]
          },
          "metadata": {
            "tags": []
          },
          "execution_count": 296
        }
      ]
    },
    {
      "metadata": {
        "id": "4k8DamIvGHSv",
        "colab_type": "code",
        "outputId": "2b8d09c7-5fa6-4de1-eeb3-d69271868dbc",
        "colab": {
          "base_uri": "https://localhost:8080/",
          "height": 1173
        }
      },
      "cell_type": "code",
      "source": [
        "model_evaluation(\"LR tdidf\",lr,train_tfidf,train_labels,test_tfidf,test_labels)"
      ],
      "execution_count": 0,
      "outputs": [
        {
          "output_type": "stream",
          "text": [
            "training dataset evaluation:\n",
            "\n",
            "Evaluation for: LR tdidf\n",
            "Classifier 'LR tdidf' has Acc=0.977 P=0.957 R=0.994 F1=0.975\n",
            "              precision    recall  f1-score   support\n",
            "\n",
            "           0      1.000     0.928     0.963       360\n",
            "           1      0.919     1.000     0.958        34\n",
            "           2      1.000     0.985     0.992       133\n",
            "           3      0.983     1.000     0.991        58\n",
            "           4      0.988     1.000     0.994        81\n",
            "           5      0.952     1.000     0.975        59\n",
            "           6      1.000     1.000     1.000        38\n",
            "           7      1.000     1.000     1.000        38\n",
            "           8      1.000     0.975     0.987       201\n",
            "           9      0.848     1.000     0.918        28\n",
            "          10      0.968     1.000     0.984        60\n",
            "          11      0.969     1.000     0.984        31\n",
            "          12      0.912     1.000     0.954        31\n",
            "          13      1.000     1.000     1.000        48\n",
            "          14      0.821     1.000     0.902        23\n",
            "          15      0.865     1.000     0.928        32\n",
            "          16      1.000     1.000     1.000        63\n",
            "          17      1.000     1.000     1.000        43\n",
            "          18      0.955     1.000     0.977        63\n",
            "          19      0.970     1.000     0.985        32\n",
            "\n",
            "   micro avg      0.977     0.977     0.977      1456\n",
            "   macro avg      0.957     0.994     0.975      1456\n",
            "weighted avg      0.980     0.977     0.978      1456\n",
            "\n",
            "================ENDOFEVALUATION=========================\n",
            "\n",
            "test dataset evaluation:\n",
            "\n",
            "Evaluation for: LR tdidf\n",
            "Classifier 'LR tdidf' has Acc=0.619 P=0.446 R=0.682 F1=0.474\n",
            "              precision    recall  f1-score   support\n",
            "\n",
            "           0      0.952     0.563     0.708       142\n",
            "           1      0.250     1.000     0.400         3\n",
            "           2      0.892     0.688     0.776        48\n",
            "           3      0.667     0.857     0.750         7\n",
            "           4      0.714     0.526     0.606        19\n",
            "           5      0.235     0.500     0.320         8\n",
            "           6      0.267     1.000     0.421         4\n",
            "           7      0.364     1.000     0.533         4\n",
            "           8      0.875     0.553     0.677        76\n",
            "           9      0.200     0.500     0.286         2\n",
            "          10      0.174     1.000     0.296         4\n",
            "          11      0.600     1.000     0.750         6\n",
            "          12      0.000     0.000     0.000         1\n",
            "          13      1.000     1.000     1.000         6\n",
            "          14      0.000     0.000     0.000         0\n",
            "          15      0.000     0.000     0.000         0\n",
            "          16      0.769     0.455     0.571        22\n",
            "          17      0.545     1.000     0.706         6\n",
            "          18      0.300     1.000     0.462         6\n",
            "          19      0.125     1.000     0.222         1\n",
            "\n",
            "   micro avg      0.619     0.619     0.619       365\n",
            "   macro avg      0.446     0.682     0.474       365\n",
            "weighted avg      0.824     0.619     0.673       365\n",
            "\n",
            "================ENDOFEVALUATION=========================\n",
            "\n"
          ],
          "name": "stdout"
        },
        {
          "output_type": "stream",
          "text": [
            "/usr/local/lib/python3.6/dist-packages/sklearn/metrics/classification.py:1145: UndefinedMetricWarning: Recall and F-score are ill-defined and being set to 0.0 in labels with no true samples.\n",
            "  'recall', 'true', average, warn_for)\n"
          ],
          "name": "stderr"
        }
      ]
    },
    {
      "metadata": {
        "id": "aOzsGp6tKuWy",
        "colab_type": "text"
      },
      "cell_type": "markdown",
      "source": [
        " **SVM with RBF**\n",
        " \n",
        " 0nehot"
      ]
    },
    {
      "metadata": {
        "id": "5rlz1Lp9Kt07",
        "colab_type": "code",
        "outputId": "5d25bba7-f830-4925-93e8-39a4a114be34",
        "colab": {
          "base_uri": "https://localhost:8080/",
          "height": 85
        }
      },
      "cell_type": "code",
      "source": [
        "from sklearn.svm import SVC\n",
        "svc = SVC(gamma='auto',decision_function_shape='ovr')\n",
        "svc.fit(train_onehot,train_labels)"
      ],
      "execution_count": 0,
      "outputs": [
        {
          "output_type": "execute_result",
          "data": {
            "text/plain": [
              "SVC(C=1.0, cache_size=200, class_weight=None, coef0=0.0,\n",
              "  decision_function_shape='ovr', degree=3, gamma='auto', kernel='rbf',\n",
              "  max_iter=-1, probability=False, random_state=None, shrinking=True,\n",
              "  tol=0.001, verbose=False)"
            ]
          },
          "metadata": {
            "tags": []
          },
          "execution_count": 298
        }
      ]
    },
    {
      "metadata": {
        "id": "bZV3z2O5LQ1s",
        "colab_type": "code",
        "outputId": "258e6509-9a8a-429a-f941-3e1564642dfc",
        "colab": {
          "base_uri": "https://localhost:8080/",
          "height": 1173
        }
      },
      "cell_type": "code",
      "source": [
        "model_evaluation(\"SVC onthot\",svc,train_onehot,train_labels,test_onehot,test_labels)"
      ],
      "execution_count": 0,
      "outputs": [
        {
          "output_type": "stream",
          "text": [
            "training dataset evaluation:\n",
            "\n",
            "Evaluation for: SVC onthot\n",
            "Classifier 'SVC onthot' has Acc=0.229 P=0.050 R=0.011 F1=0.019\n",
            "              precision    recall  f1-score   support\n",
            "\n",
            "           0      1.000     0.229     0.373      1456\n",
            "           1      0.000     0.000     0.000         0\n",
            "           2      0.000     0.000     0.000         0\n",
            "           3      0.000     0.000     0.000         0\n",
            "           4      0.000     0.000     0.000         0\n",
            "           5      0.000     0.000     0.000         0\n",
            "           6      0.000     0.000     0.000         0\n",
            "           7      0.000     0.000     0.000         0\n",
            "           8      0.000     0.000     0.000         0\n",
            "           9      0.000     0.000     0.000         0\n",
            "          10      0.000     0.000     0.000         0\n",
            "          11      0.000     0.000     0.000         0\n",
            "          12      0.000     0.000     0.000         0\n",
            "          13      0.000     0.000     0.000         0\n",
            "          14      0.000     0.000     0.000         0\n",
            "          15      0.000     0.000     0.000         0\n",
            "          16      0.000     0.000     0.000         0\n",
            "          17      0.000     0.000     0.000         0\n",
            "          18      0.000     0.000     0.000         0\n",
            "          19      0.000     0.000     0.000         0\n",
            "\n",
            "   micro avg      0.229     0.229     0.229      1456\n",
            "   macro avg      0.050     0.011     0.019      1456\n",
            "weighted avg      1.000     0.229     0.373      1456\n",
            "\n",
            "================ENDOFEVALUATION=========================\n",
            "\n",
            "test dataset evaluation:\n",
            "\n"
          ],
          "name": "stdout"
        },
        {
          "output_type": "stream",
          "text": [
            "/usr/local/lib/python3.6/dist-packages/sklearn/metrics/classification.py:1145: UndefinedMetricWarning: Recall and F-score are ill-defined and being set to 0.0 in labels with no true samples.\n",
            "  'recall', 'true', average, warn_for)\n"
          ],
          "name": "stderr"
        },
        {
          "output_type": "stream",
          "text": [
            "Evaluation for: SVC onthot\n",
            "Classifier 'SVC onthot' has Acc=0.230 P=0.050 R=0.012 F1=0.019\n",
            "              precision    recall  f1-score   support\n",
            "\n",
            "           0      1.000     0.230     0.374       365\n",
            "           1      0.000     0.000     0.000         0\n",
            "           2      0.000     0.000     0.000         0\n",
            "           3      0.000     0.000     0.000         0\n",
            "           4      0.000     0.000     0.000         0\n",
            "           5      0.000     0.000     0.000         0\n",
            "           6      0.000     0.000     0.000         0\n",
            "           7      0.000     0.000     0.000         0\n",
            "           8      0.000     0.000     0.000         0\n",
            "           9      0.000     0.000     0.000         0\n",
            "          10      0.000     0.000     0.000         0\n",
            "          11      0.000     0.000     0.000         0\n",
            "          12      0.000     0.000     0.000         0\n",
            "          13      0.000     0.000     0.000         0\n",
            "          14      0.000     0.000     0.000         0\n",
            "          15      0.000     0.000     0.000         0\n",
            "          16      0.000     0.000     0.000         0\n",
            "          17      0.000     0.000     0.000         0\n",
            "          18      0.000     0.000     0.000         0\n",
            "          19      0.000     0.000     0.000         0\n",
            "\n",
            "   micro avg      0.230     0.230     0.230       365\n",
            "   macro avg      0.050     0.012     0.019       365\n",
            "weighted avg      1.000     0.230     0.374       365\n",
            "\n",
            "================ENDOFEVALUATION=========================\n",
            "\n"
          ],
          "name": "stdout"
        }
      ]
    },
    {
      "metadata": {
        "id": "Hj4UULEnMtse",
        "colab_type": "text"
      },
      "cell_type": "markdown",
      "source": [
        "td-idf"
      ]
    },
    {
      "metadata": {
        "id": "PFC_1FUmMu9V",
        "colab_type": "code",
        "outputId": "b28c2e01-dd91-4ad8-8ee8-f8e1877df1d1",
        "colab": {
          "base_uri": "https://localhost:8080/",
          "height": 85
        }
      },
      "cell_type": "code",
      "source": [
        "from sklearn.svm import SVC\n",
        "svc = SVC(gamma='auto',decision_function_shape='ovr')\n",
        "svc.fit(train_tfidf,train_labels)"
      ],
      "execution_count": 0,
      "outputs": [
        {
          "output_type": "execute_result",
          "data": {
            "text/plain": [
              "SVC(C=1.0, cache_size=200, class_weight=None, coef0=0.0,\n",
              "  decision_function_shape='ovr', degree=3, gamma='auto', kernel='rbf',\n",
              "  max_iter=-1, probability=False, random_state=None, shrinking=True,\n",
              "  tol=0.001, verbose=False)"
            ]
          },
          "metadata": {
            "tags": []
          },
          "execution_count": 300
        }
      ]
    },
    {
      "metadata": {
        "id": "FGWwRIWAM5pP",
        "colab_type": "code",
        "outputId": "ece9f61a-8892-41d9-c3e2-43cac1bb525e",
        "colab": {
          "base_uri": "https://localhost:8080/",
          "height": 1173
        }
      },
      "cell_type": "code",
      "source": [
        "model_evaluation(\"SVC tdidf\",svc,train_tfidf,train_labels,test_tfidf,test_labels)"
      ],
      "execution_count": 0,
      "outputs": [
        {
          "output_type": "stream",
          "text": [
            "training dataset evaluation:\n",
            "\n",
            "Evaluation for: SVC tdidf\n",
            "Classifier 'SVC tdidf' has Acc=0.229 P=0.050 R=0.011 F1=0.019\n",
            "              precision    recall  f1-score   support\n",
            "\n",
            "           0      1.000     0.229     0.373      1456\n",
            "           1      0.000     0.000     0.000         0\n",
            "           2      0.000     0.000     0.000         0\n",
            "           3      0.000     0.000     0.000         0\n",
            "           4      0.000     0.000     0.000         0\n",
            "           5      0.000     0.000     0.000         0\n",
            "           6      0.000     0.000     0.000         0\n",
            "           7      0.000     0.000     0.000         0\n",
            "           8      0.000     0.000     0.000         0\n",
            "           9      0.000     0.000     0.000         0\n",
            "          10      0.000     0.000     0.000         0\n",
            "          11      0.000     0.000     0.000         0\n",
            "          12      0.000     0.000     0.000         0\n",
            "          13      0.000     0.000     0.000         0\n",
            "          14      0.000     0.000     0.000         0\n",
            "          15      0.000     0.000     0.000         0\n",
            "          16      0.000     0.000     0.000         0\n",
            "          17      0.000     0.000     0.000         0\n",
            "          18      0.000     0.000     0.000         0\n",
            "          19      0.000     0.000     0.000         0\n",
            "\n",
            "   micro avg      0.229     0.229     0.229      1456\n",
            "   macro avg      0.050     0.011     0.019      1456\n",
            "weighted avg      1.000     0.229     0.373      1456\n",
            "\n",
            "================ENDOFEVALUATION=========================\n",
            "\n",
            "test dataset evaluation:\n",
            "\n"
          ],
          "name": "stdout"
        },
        {
          "output_type": "stream",
          "text": [
            "/usr/local/lib/python3.6/dist-packages/sklearn/metrics/classification.py:1145: UndefinedMetricWarning: Recall and F-score are ill-defined and being set to 0.0 in labels with no true samples.\n",
            "  'recall', 'true', average, warn_for)\n"
          ],
          "name": "stderr"
        },
        {
          "output_type": "stream",
          "text": [
            "Evaluation for: SVC tdidf\n",
            "Classifier 'SVC tdidf' has Acc=0.230 P=0.050 R=0.012 F1=0.019\n",
            "              precision    recall  f1-score   support\n",
            "\n",
            "           0      1.000     0.230     0.374       365\n",
            "           1      0.000     0.000     0.000         0\n",
            "           2      0.000     0.000     0.000         0\n",
            "           3      0.000     0.000     0.000         0\n",
            "           4      0.000     0.000     0.000         0\n",
            "           5      0.000     0.000     0.000         0\n",
            "           6      0.000     0.000     0.000         0\n",
            "           7      0.000     0.000     0.000         0\n",
            "           8      0.000     0.000     0.000         0\n",
            "           9      0.000     0.000     0.000         0\n",
            "          10      0.000     0.000     0.000         0\n",
            "          11      0.000     0.000     0.000         0\n",
            "          12      0.000     0.000     0.000         0\n",
            "          13      0.000     0.000     0.000         0\n",
            "          14      0.000     0.000     0.000         0\n",
            "          15      0.000     0.000     0.000         0\n",
            "          16      0.000     0.000     0.000         0\n",
            "          17      0.000     0.000     0.000         0\n",
            "          18      0.000     0.000     0.000         0\n",
            "          19      0.000     0.000     0.000         0\n",
            "\n",
            "   micro avg      0.230     0.230     0.230       365\n",
            "   macro avg      0.050     0.012     0.019       365\n",
            "weighted avg      1.000     0.230     0.374       365\n",
            "\n",
            "================ENDOFEVALUATION=========================\n",
            "\n"
          ],
          "name": "stdout"
        }
      ]
    },
    {
      "metadata": {
        "id": "HUSI2Wjj4ThQ",
        "colab_type": "text"
      },
      "cell_type": "markdown",
      "source": [
        "**random-forest.**\n",
        "\n",
        "onehot"
      ]
    },
    {
      "metadata": {
        "id": "OBYdvv1j332O",
        "colab_type": "code",
        "outputId": "752d8d1c-aa37-42c5-b7ee-0027ebf7f27d",
        "colab": {
          "base_uri": "https://localhost:8080/",
          "height": 170
        }
      },
      "cell_type": "code",
      "source": [
        "from sklearn.ensemble import RandomForestClassifier\n",
        "rdf = RandomForestClassifier()\n",
        "rdf.fit(train_onehot,train_labels)"
      ],
      "execution_count": 0,
      "outputs": [
        {
          "output_type": "stream",
          "text": [
            "/usr/local/lib/python3.6/dist-packages/sklearn/ensemble/forest.py:246: FutureWarning: The default value of n_estimators will change from 10 in version 0.20 to 100 in 0.22.\n",
            "  \"10 in version 0.20 to 100 in 0.22.\", FutureWarning)\n"
          ],
          "name": "stderr"
        },
        {
          "output_type": "execute_result",
          "data": {
            "text/plain": [
              "RandomForestClassifier(bootstrap=True, class_weight=None, criterion='gini',\n",
              "            max_depth=None, max_features='auto', max_leaf_nodes=None,\n",
              "            min_impurity_decrease=0.0, min_impurity_split=None,\n",
              "            min_samples_leaf=1, min_samples_split=2,\n",
              "            min_weight_fraction_leaf=0.0, n_estimators=10, n_jobs=None,\n",
              "            oob_score=False, random_state=None, verbose=0,\n",
              "            warm_start=False)"
            ]
          },
          "metadata": {
            "tags": []
          },
          "execution_count": 302
        }
      ]
    },
    {
      "metadata": {
        "id": "XgnGm80a4Z4I",
        "colab_type": "code",
        "outputId": "c6a00af7-29e3-440f-a6ee-5453c4eed107",
        "colab": {
          "base_uri": "https://localhost:8080/",
          "height": 1173
        }
      },
      "cell_type": "code",
      "source": [
        "model_evaluation(\"random forest one-hot\",rdf,train_onehot,train_labels,test_onehot,test_labels)"
      ],
      "execution_count": 0,
      "outputs": [
        {
          "output_type": "stream",
          "text": [
            "training dataset evaluation:\n",
            "\n",
            "Evaluation for: random forest one-hot\n",
            "Classifier 'random forest one-hot' has Acc=0.990 P=0.983 R=0.997 F1=0.990\n",
            "              precision    recall  f1-score   support\n",
            "\n",
            "           0      1.000     0.971     0.985       344\n",
            "           1      1.000     1.000     1.000        37\n",
            "           2      0.992     0.985     0.989       132\n",
            "           3      1.000     1.000     1.000        59\n",
            "           4      0.988     1.000     0.994        81\n",
            "           5      1.000     1.000     1.000        62\n",
            "           6      1.000     1.000     1.000        38\n",
            "           7      1.000     1.000     1.000        38\n",
            "           8      1.000     0.985     0.992       199\n",
            "           9      0.939     1.000     0.969        31\n",
            "          10      0.968     1.000     0.984        60\n",
            "          11      0.969     1.000     0.984        31\n",
            "          12      0.941     1.000     0.970        32\n",
            "          13      0.979     1.000     0.989        47\n",
            "          14      1.000     1.000     1.000        28\n",
            "          15      0.946     1.000     0.972        35\n",
            "          16      0.984     1.000     0.992        62\n",
            "          17      1.000     1.000     1.000        43\n",
            "          18      0.985     1.000     0.992        65\n",
            "          19      0.970     1.000     0.985        32\n",
            "\n",
            "   micro avg      0.990     0.990     0.990      1456\n",
            "   macro avg      0.983     0.997     0.990      1456\n",
            "weighted avg      0.990     0.990     0.990      1456\n",
            "\n",
            "================ENDOFEVALUATION=========================\n",
            "\n",
            "test dataset evaluation:\n",
            "\n",
            "Evaluation for: random forest one-hot\n",
            "Classifier 'random forest one-hot' has Acc=0.488 P=0.299 R=0.505 F1=0.328\n",
            "              precision    recall  f1-score   support\n",
            "\n",
            "           0      0.893     0.455     0.602       165\n",
            "           1      0.167     1.000     0.286         2\n",
            "           2      0.730     0.600     0.659        45\n",
            "           3      0.667     0.667     0.667         9\n",
            "           4      0.214     0.188     0.200        16\n",
            "           5      0.118     0.333     0.174         6\n",
            "           6      0.267     0.800     0.400         5\n",
            "           7      0.091     0.500     0.154         2\n",
            "           8      0.667     0.478     0.557        67\n",
            "           9      0.000     0.000     0.000         0\n",
            "          10      0.174     0.667     0.276         6\n",
            "          11      0.400     0.800     0.533         5\n",
            "          12      0.000     0.000     0.000         3\n",
            "          13      0.333     0.333     0.333         6\n",
            "          14      0.200     0.500     0.286         4\n",
            "          15      0.167     1.000     0.286         1\n",
            "          16      0.462     0.667     0.545         9\n",
            "          17      0.182     0.667     0.286         3\n",
            "          18      0.250     0.455     0.323        11\n",
            "          19      0.000     0.000     0.000         0\n",
            "\n",
            "   micro avg      0.488     0.488     0.488       365\n",
            "   macro avg      0.299     0.505     0.328       365\n",
            "weighted avg      0.686     0.488     0.538       365\n",
            "\n",
            "================ENDOFEVALUATION=========================\n",
            "\n"
          ],
          "name": "stdout"
        },
        {
          "output_type": "stream",
          "text": [
            "/usr/local/lib/python3.6/dist-packages/sklearn/metrics/classification.py:1145: UndefinedMetricWarning: Recall and F-score are ill-defined and being set to 0.0 in labels with no true samples.\n",
            "  'recall', 'true', average, warn_for)\n"
          ],
          "name": "stderr"
        }
      ]
    },
    {
      "metadata": {
        "id": "T1c9fDe_4pM6",
        "colab_type": "text"
      },
      "cell_type": "markdown",
      "source": [
        "random forest- tfidf"
      ]
    },
    {
      "metadata": {
        "id": "u9UqZ_2U4oKc",
        "colab_type": "code",
        "outputId": "30c9bcc9-cd8a-49d7-8e80-fbb5b3481a23",
        "colab": {
          "base_uri": "https://localhost:8080/",
          "height": 170
        }
      },
      "cell_type": "code",
      "source": [
        "rdf = RandomForestClassifier()\n",
        "rdf.fit(train_tfidf,train_labels)"
      ],
      "execution_count": 0,
      "outputs": [
        {
          "output_type": "stream",
          "text": [
            "/usr/local/lib/python3.6/dist-packages/sklearn/ensemble/forest.py:246: FutureWarning: The default value of n_estimators will change from 10 in version 0.20 to 100 in 0.22.\n",
            "  \"10 in version 0.20 to 100 in 0.22.\", FutureWarning)\n"
          ],
          "name": "stderr"
        },
        {
          "output_type": "execute_result",
          "data": {
            "text/plain": [
              "RandomForestClassifier(bootstrap=True, class_weight=None, criterion='gini',\n",
              "            max_depth=None, max_features='auto', max_leaf_nodes=None,\n",
              "            min_impurity_decrease=0.0, min_impurity_split=None,\n",
              "            min_samples_leaf=1, min_samples_split=2,\n",
              "            min_weight_fraction_leaf=0.0, n_estimators=10, n_jobs=None,\n",
              "            oob_score=False, random_state=None, verbose=0,\n",
              "            warm_start=False)"
            ]
          },
          "metadata": {
            "tags": []
          },
          "execution_count": 304
        }
      ]
    },
    {
      "metadata": {
        "id": "utS_vr464zzh",
        "colab_type": "code",
        "outputId": "9aedf5c2-4c41-46e8-e693-d5ba88a31ea6",
        "colab": {
          "base_uri": "https://localhost:8080/",
          "height": 1173
        }
      },
      "cell_type": "code",
      "source": [
        "model_evaluation(\"random forest tfidf\",rdf,train_tfidf,train_labels,test_tfidf,test_labels)"
      ],
      "execution_count": 0,
      "outputs": [
        {
          "output_type": "stream",
          "text": [
            "training dataset evaluation:\n",
            "\n",
            "Evaluation for: random forest tfidf\n",
            "Classifier 'random forest tfidf' has Acc=0.995 P=0.994 R=0.999 F1=0.996\n",
            "              precision    recall  f1-score   support\n",
            "\n",
            "           0      1.000     0.979     0.990       341\n",
            "           1      1.000     1.000     1.000        37\n",
            "           2      1.000     0.992     0.996       132\n",
            "           3      1.000     1.000     1.000        59\n",
            "           4      1.000     1.000     1.000        82\n",
            "           5      1.000     1.000     1.000        62\n",
            "           6      1.000     1.000     1.000        38\n",
            "           7      1.000     1.000     1.000        38\n",
            "           8      0.985     1.000     0.992       193\n",
            "           9      0.939     1.000     0.969        31\n",
            "          10      0.984     1.000     0.992        61\n",
            "          11      1.000     1.000     1.000        32\n",
            "          12      1.000     1.000     1.000        34\n",
            "          13      1.000     1.000     1.000        48\n",
            "          14      1.000     1.000     1.000        28\n",
            "          15      1.000     1.000     1.000        37\n",
            "          16      1.000     1.000     1.000        63\n",
            "          17      1.000     1.000     1.000        43\n",
            "          18      0.970     1.000     0.985        64\n",
            "          19      1.000     1.000     1.000        33\n",
            "\n",
            "   micro avg      0.995     0.995     0.995      1456\n",
            "   macro avg      0.994     0.999     0.996      1456\n",
            "weighted avg      0.995     0.995     0.995      1456\n",
            "\n",
            "================ENDOFEVALUATION=========================\n",
            "\n",
            "test dataset evaluation:\n",
            "\n",
            "Evaluation for: random forest tfidf\n",
            "Classifier 'random forest tfidf' has Acc=0.433 P=0.246 R=0.471 F1=0.277\n",
            "              precision    recall  f1-score   support\n",
            "\n",
            "           0      0.869     0.376     0.525       194\n",
            "           1      0.083     0.500     0.143         2\n",
            "           2      0.676     0.581     0.625        43\n",
            "           3      0.556     0.714     0.625         7\n",
            "           4      0.143     0.143     0.143        14\n",
            "           5      0.118     0.182     0.143        11\n",
            "           6      0.200     0.750     0.316         4\n",
            "           7      0.273     0.750     0.400         4\n",
            "           8      0.583     0.519     0.549        54\n",
            "           9      0.000     0.000     0.000         0\n",
            "          10      0.130     0.429     0.200         7\n",
            "          11      0.100     1.000     0.182         1\n",
            "          12      0.000     0.000     0.000         2\n",
            "          13      0.500     1.000     0.667         3\n",
            "          14      0.000     0.000     0.000         1\n",
            "          15      0.167     1.000     0.286         1\n",
            "          16      0.231     0.333     0.273         9\n",
            "          17      0.091     0.333     0.143         3\n",
            "          18      0.200     0.800     0.320         5\n",
            "          19      0.000     0.000     0.000         0\n",
            "\n",
            "   micro avg      0.433     0.433     0.433       365\n",
            "   macro avg      0.246     0.471     0.277       365\n",
            "weighted avg      0.670     0.433     0.487       365\n",
            "\n",
            "================ENDOFEVALUATION=========================\n",
            "\n"
          ],
          "name": "stdout"
        },
        {
          "output_type": "stream",
          "text": [
            "/usr/local/lib/python3.6/dist-packages/sklearn/metrics/classification.py:1145: UndefinedMetricWarning: Recall and F-score are ill-defined and being set to 0.0 in labels with no true samples.\n",
            "  'recall', 'true', average, warn_for)\n"
          ],
          "name": "stderr"
        }
      ]
    },
    {
      "metadata": {
        "id": "lHQqn3qAbxHJ",
        "colab_type": "text"
      },
      "cell_type": "markdown",
      "source": [
        "**Dummy classifier trategy=\"most_frequent\" **"
      ]
    },
    {
      "metadata": {
        "id": "4lcECh0acSz5",
        "colab_type": "code",
        "outputId": "a9f903ac-4afa-4abe-9250-59a0d8f45f6a",
        "colab": {
          "base_uri": "https://localhost:8080/",
          "height": 1173
        }
      },
      "cell_type": "code",
      "source": [
        "from sklearn.dummy import DummyClassifier\n",
        "dummy1 = DummyClassifier(strategy=\"most_frequent\")\n",
        "dummy1.fit(train_onehot, train_labels)\n",
        "model_evaluation(\"random forest one-hot\",dummy1,train_onehot,train_labels,test_onehot,test_labels)\n"
      ],
      "execution_count": 0,
      "outputs": [
        {
          "output_type": "stream",
          "text": [
            "training dataset evaluation:\n",
            "\n",
            "Evaluation for: random forest one-hot\n",
            "Classifier 'random forest one-hot' has Acc=0.229 P=0.050 R=0.011 F1=0.019\n",
            "              precision    recall  f1-score   support\n",
            "\n",
            "           0      1.000     0.229     0.373      1456\n",
            "           1      0.000     0.000     0.000         0\n",
            "           2      0.000     0.000     0.000         0\n",
            "           3      0.000     0.000     0.000         0\n",
            "           4      0.000     0.000     0.000         0\n",
            "           5      0.000     0.000     0.000         0\n",
            "           6      0.000     0.000     0.000         0\n",
            "           7      0.000     0.000     0.000         0\n",
            "           8      0.000     0.000     0.000         0\n",
            "           9      0.000     0.000     0.000         0\n",
            "          10      0.000     0.000     0.000         0\n",
            "          11      0.000     0.000     0.000         0\n",
            "          12      0.000     0.000     0.000         0\n",
            "          13      0.000     0.000     0.000         0\n",
            "          14      0.000     0.000     0.000         0\n",
            "          15      0.000     0.000     0.000         0\n",
            "          16      0.000     0.000     0.000         0\n",
            "          17      0.000     0.000     0.000         0\n",
            "          18      0.000     0.000     0.000         0\n",
            "          19      0.000     0.000     0.000         0\n",
            "\n",
            "   micro avg      0.229     0.229     0.229      1456\n",
            "   macro avg      0.050     0.011     0.019      1456\n",
            "weighted avg      1.000     0.229     0.373      1456\n",
            "\n",
            "================ENDOFEVALUATION=========================\n",
            "\n",
            "test dataset evaluation:\n",
            "\n",
            "Evaluation for: random forest one-hot\n",
            "Classifier 'random forest one-hot' has Acc=0.230 P=0.050 R=0.012 F1=0.019\n",
            "              precision    recall  f1-score   support\n",
            "\n",
            "           0      1.000     0.230     0.374       365\n",
            "           1      0.000     0.000     0.000         0\n",
            "           2      0.000     0.000     0.000         0\n",
            "           3      0.000     0.000     0.000         0\n",
            "           4      0.000     0.000     0.000         0\n",
            "           5      0.000     0.000     0.000         0\n",
            "           6      0.000     0.000     0.000         0\n",
            "           7      0.000     0.000     0.000         0\n",
            "           8      0.000     0.000     0.000         0\n",
            "           9      0.000     0.000     0.000         0\n",
            "          10      0.000     0.000     0.000         0\n",
            "          11      0.000     0.000     0.000         0\n",
            "          12      0.000     0.000     0.000         0\n",
            "          13      0.000     0.000     0.000         0\n",
            "          14      0.000     0.000     0.000         0\n",
            "          15      0.000     0.000     0.000         0\n",
            "          16      0.000     0.000     0.000         0\n",
            "          17      0.000     0.000     0.000         0\n",
            "          18      0.000     0.000     0.000         0\n",
            "          19      0.000     0.000     0.000         0\n",
            "\n",
            "   micro avg      0.230     0.230     0.230       365\n",
            "   macro avg      0.050     0.012     0.019       365\n",
            "weighted avg      1.000     0.230     0.374       365\n",
            "\n",
            "================ENDOFEVALUATION=========================\n",
            "\n"
          ],
          "name": "stdout"
        },
        {
          "output_type": "stream",
          "text": [
            "/usr/local/lib/python3.6/dist-packages/sklearn/metrics/classification.py:1145: UndefinedMetricWarning: Recall and F-score are ill-defined and being set to 0.0 in labels with no true samples.\n",
            "  'recall', 'true', average, warn_for)\n"
          ],
          "name": "stderr"
        }
      ]
    },
    {
      "metadata": {
        "id": "zt4HO9LHcP5C",
        "colab_type": "text"
      },
      "cell_type": "markdown",
      "source": [
        "**Dummy classifier trategy=\"stratified\"**"
      ]
    },
    {
      "metadata": {
        "id": "kYbkAbJlcTLx",
        "colab_type": "code",
        "outputId": "18eaaa3c-df4d-4596-bbc0-c40459a0f30b",
        "colab": {
          "base_uri": "https://localhost:8080/",
          "height": 1139
        }
      },
      "cell_type": "code",
      "source": [
        "from sklearn.dummy import DummyClassifier\n",
        "dummy1 = DummyClassifier(strategy='stratified')\n",
        "dummy1.fit(train_onehot, train_labels)\n",
        "model_evaluation(\"random forest one-hot\",dummy1,train_onehot,train_labels,test_onehot,test_labels)\n"
      ],
      "execution_count": 0,
      "outputs": [
        {
          "output_type": "stream",
          "text": [
            "training dataset evaluation:\n",
            "\n",
            "Evaluation for: random forest one-hot\n",
            "Classifier 'random forest one-hot' has Acc=0.101 P=0.047 R=0.047 F1=0.047\n",
            "              precision    recall  f1-score   support\n",
            "\n",
            "           0      0.254     0.257     0.256       331\n",
            "           1      0.027     0.032     0.029        31\n",
            "           2      0.122     0.127     0.125       126\n",
            "           3      0.034     0.030     0.032        66\n",
            "           4      0.049     0.046     0.047        87\n",
            "           5      0.048     0.051     0.050        59\n",
            "           6      0.026     0.031     0.029        32\n",
            "           7      0.026     0.033     0.029        30\n",
            "           8      0.117     0.118     0.118       195\n",
            "           9      0.000     0.000     0.000        32\n",
            "          10      0.048     0.048     0.048        63\n",
            "          11      0.000     0.000     0.000        35\n",
            "          12      0.000     0.000     0.000        39\n",
            "          13      0.083     0.070     0.076        57\n",
            "          14      0.036     0.038     0.037        26\n",
            "          15      0.000     0.000     0.000        31\n",
            "          16      0.016     0.015     0.016        66\n",
            "          17      0.023     0.027     0.025        37\n",
            "          18      0.000     0.000     0.000        71\n",
            "          19      0.030     0.024     0.027        42\n",
            "\n",
            "   micro avg      0.101     0.101     0.101      1456\n",
            "   macro avg      0.047     0.047     0.047      1456\n",
            "weighted avg      0.100     0.101     0.101      1456\n",
            "\n",
            "================ENDOFEVALUATION=========================\n",
            "\n",
            "test dataset evaluation:\n",
            "\n",
            "Evaluation for: random forest one-hot\n",
            "Classifier 'random forest one-hot' has Acc=0.090 P=0.044 R=0.051 F1=0.045\n",
            "              precision    recall  f1-score   support\n",
            "\n",
            "           0      0.226     0.235     0.230        81\n",
            "           1      0.000     0.000     0.000         7\n",
            "           2      0.081     0.083     0.082        36\n",
            "           3      0.000     0.000     0.000        14\n",
            "           4      0.071     0.037     0.049        27\n",
            "           5      0.118     0.095     0.105        21\n",
            "           6      0.067     0.143     0.091         7\n",
            "           7      0.000     0.000     0.000         9\n",
            "           8      0.083     0.085     0.084        47\n",
            "           9      0.000     0.000     0.000         6\n",
            "          10      0.043     0.125     0.065         8\n",
            "          11      0.100     0.125     0.111         8\n",
            "          12      0.000     0.000     0.000        10\n",
            "          13      0.000     0.000     0.000        18\n",
            "          14      0.000     0.000     0.000         6\n",
            "          15      0.000     0.000     0.000         6\n",
            "          16      0.000     0.000     0.000        17\n",
            "          17      0.091     0.083     0.087        12\n",
            "          18      0.000     0.000     0.000        16\n",
            "          19      0.000     0.000     0.000         9\n",
            "\n",
            "   micro avg      0.090     0.090     0.090       365\n",
            "   macro avg      0.044     0.051     0.045       365\n",
            "weighted avg      0.088     0.090     0.088       365\n",
            "\n",
            "================ENDOFEVALUATION=========================\n",
            "\n"
          ],
          "name": "stdout"
        }
      ]
    },
    {
      "metadata": {
        "id": "vxf-p6gLc1Aq",
        "colab_type": "text"
      },
      "cell_type": "markdown",
      "source": [
        "#### Best model evaluation"
      ]
    },
    {
      "metadata": {
        "id": "OcwSLs1DeJn7",
        "colab_type": "code",
        "outputId": "c3ffc3ed-4c79-4b70-8eab-f2e0d045471d",
        "colab": {
          "base_uri": "https://localhost:8080/",
          "height": 1207
        }
      },
      "cell_type": "code",
      "source": [
        "from sklearn.linear_model import LogisticRegression\n",
        "lr = LogisticRegression(solver='saga',multi_class=\"ovr\")\n",
        "lr.fit(train_onehot,train_labels)\n",
        "model_evaluation(\"LR onthot\",lr,train_onehot,train_labels,test_onehot,test_labels)\n"
      ],
      "execution_count": 0,
      "outputs": [
        {
          "output_type": "stream",
          "text": [
            "/usr/local/lib/python3.6/dist-packages/sklearn/linear_model/sag.py:334: ConvergenceWarning: The max_iter was reached which means the coef_ did not converge\n",
            "  \"the coef_ did not converge\", ConvergenceWarning)\n"
          ],
          "name": "stderr"
        },
        {
          "output_type": "stream",
          "text": [
            "training dataset evaluation:\n",
            "\n",
            "Evaluation for: LR onthot\n",
            "Classifier 'LR onthot' has Acc=0.999 P=0.999 R=1.000 F1=0.999\n",
            "              precision    recall  f1-score   support\n",
            "\n",
            "           0      1.000     0.997     0.999       335\n",
            "           1      1.000     1.000     1.000        37\n",
            "           2      1.000     1.000     1.000       131\n",
            "           3      1.000     1.000     1.000        59\n",
            "           4      1.000     1.000     1.000        82\n",
            "           5      1.000     1.000     1.000        62\n",
            "           6      1.000     1.000     1.000        38\n",
            "           7      1.000     1.000     1.000        38\n",
            "           8      1.000     1.000     1.000       196\n",
            "           9      1.000     1.000     1.000        33\n",
            "          10      1.000     1.000     1.000        62\n",
            "          11      1.000     1.000     1.000        32\n",
            "          12      0.971     1.000     0.985        33\n",
            "          13      1.000     1.000     1.000        48\n",
            "          14      1.000     1.000     1.000        28\n",
            "          15      1.000     1.000     1.000        37\n",
            "          16      1.000     1.000     1.000        63\n",
            "          17      1.000     1.000     1.000        43\n",
            "          18      1.000     1.000     1.000        66\n",
            "          19      1.000     1.000     1.000        33\n",
            "\n",
            "   micro avg      0.999     0.999     0.999      1456\n",
            "   macro avg      0.999     1.000     0.999      1456\n",
            "weighted avg      0.999     0.999     0.999      1456\n",
            "\n",
            "================ENDOFEVALUATION=========================\n",
            "\n",
            "test dataset evaluation:\n",
            "\n",
            "Evaluation for: LR onthot\n",
            "Classifier 'LR onthot' has Acc=0.701 P=0.602 R=0.770 F1=0.642\n",
            "              precision    recall  f1-score   support\n",
            "\n",
            "           0      0.893     0.664     0.761       113\n",
            "           1      0.583     0.875     0.700         8\n",
            "           2      0.757     0.757     0.757        37\n",
            "           3      0.889     0.889     0.889         9\n",
            "           4      0.857     0.500     0.632        24\n",
            "           5      0.471     0.444     0.457        18\n",
            "           6      0.600     1.000     0.750         9\n",
            "           7      0.455     1.000     0.625         5\n",
            "           8      0.938     0.625     0.750        72\n",
            "           9      0.400     0.500     0.444         4\n",
            "          10      0.261     0.750     0.387         8\n",
            "          11      0.800     1.000     0.889         8\n",
            "          12      0.000     0.000     0.000         0\n",
            "          13      1.000     0.857     0.923         7\n",
            "          14      0.300     1.000     0.462         3\n",
            "          15      0.333     1.000     0.500         2\n",
            "          16      0.692     0.692     0.692        13\n",
            "          17      0.636     1.000     0.778         7\n",
            "          18      0.550     0.846     0.667        13\n",
            "          19      0.625     1.000     0.769         5\n",
            "\n",
            "   micro avg      0.701     0.701     0.701       365\n",
            "   macro avg      0.602     0.770     0.642       365\n",
            "weighted avg      0.789     0.701     0.720       365\n",
            "\n",
            "================ENDOFEVALUATION=========================\n",
            "\n"
          ],
          "name": "stdout"
        },
        {
          "output_type": "stream",
          "text": [
            "/usr/local/lib/python3.6/dist-packages/sklearn/metrics/classification.py:1145: UndefinedMetricWarning: Recall and F-score are ill-defined and being set to 0.0 in labels with no true samples.\n",
            "  'recall', 'true', average, warn_for)\n"
          ],
          "name": "stderr"
        }
      ]
    },
    {
      "metadata": {
        "id": "aKsk4wKfeTws",
        "colab_type": "code",
        "colab": {}
      },
      "cell_type": "code",
      "source": [
        "import numpy as np\n",
        "import matplotlib.pyplot as plt\n",
        "\n",
        "from sklearn import svm, datasets\n",
        "from sklearn.model_selection import train_test_split\n",
        "from sklearn.metrics import confusion_matrix\n",
        "from sklearn.utils.multiclass import unique_labels\n",
        "def plot_confusion_matrix(y_true, y_pred, classes,\n",
        "                          normalize=False,\n",
        "                          title=None,\n",
        "                          cmap=plt.cm.Blues):\n",
        "    \"\"\"\n",
        "    This function prints and plots the confusion matrix.\n",
        "    Normalization can be applied by setting `normalize=True`.\n",
        "    \"\"\"\n",
        "    if not title:\n",
        "        if normalize:\n",
        "            title = 'Normalized confusion matrix'\n",
        "        else:\n",
        "            title = 'Confusion matrix, without normalization'\n",
        "\n",
        "    # Compute confusion matrix\n",
        "    cm = confusion_matrix(y_true, y_pred)\n",
        "    # Only use the labels that appear in the data\n",
        "    classes = classes[unique_labels(y_true, y_pred)]\n",
        "    if normalize:\n",
        "        cm = cm.astype('float') / cm.sum(axis=1)[:, np.newaxis]\n",
        "        print(\"Normalized confusion matrix\")\n",
        "    else:\n",
        "        print('Confusion matrix, without normalization')\n",
        "\n",
        "    fig=plt.figure(figsize=(10,10))\n",
        "    ax = fig.subplots()\n",
        "    im = ax.imshow(cm, interpolation='nearest', cmap=cmap)\n",
        "    ax.figure.colorbar(im, ax=ax)\n",
        "    # We want to show all ticks...\n",
        "    ax.set(xticks=np.arange(cm.shape[1]),\n",
        "           yticks=np.arange(cm.shape[0]),\n",
        "           # ... and label them with the respective list entries\n",
        "           xticklabels=classes, yticklabels=classes,\n",
        "           title=title,\n",
        "           ylabel='True label',\n",
        "           xlabel='Predicted label')\n",
        "\n",
        "    # Rotate the tick labels and set their alignment.\n",
        "    plt.setp(ax.get_xticklabels(), rotation=45, ha=\"right\",\n",
        "             rotation_mode=\"anchor\")\n",
        "\n",
        "    # Loop over data dimensions and create text annotations.\n",
        "    fmt = '.2f' if normalize else 'd'\n",
        "    thresh = cm.max() / 2.\n",
        "    for i in range(cm.shape[0]):\n",
        "        for j in range(cm.shape[1]):\n",
        "            ax.text(j, i, format(cm[i, j], fmt),\n",
        "                    ha=\"center\", va=\"center\",\n",
        "                    color=\"white\" if cm[i, j] > thresh else \"black\")\n",
        "    fig.tight_layout()\n",
        "    return ax"
      ],
      "execution_count": 0,
      "outputs": []
    },
    {
      "metadata": {
        "id": "LCYAhECrel2N",
        "colab_type": "code",
        "outputId": "2087481a-ce45-4df1-ac90-ade125f53265",
        "colab": {
          "base_uri": "https://localhost:8080/",
          "height": 724
        }
      },
      "cell_type": "code",
      "source": [
        "plot_confusion_matrix(test_labels,lr.predict(test_onehot), classes=le.classes_,\n",
        "                      title='Confusion matrix, without normalization')"
      ],
      "execution_count": 0,
      "outputs": [
        {
          "output_type": "stream",
          "text": [
            "Confusion matrix, without normalization\n"
          ],
          "name": "stdout"
        },
        {
          "output_type": "execute_result",
          "data": {
            "text/plain": [
              "<matplotlib.axes._subplots.AxesSubplot at 0x7f206e6d6978>"
            ]
          },
          "metadata": {
            "tags": []
          },
          "execution_count": 310
        },
        {
          "output_type": "display_data",
          "data": {
            "image/png": "[encoded data removed]",
            "text/plain": [
              "<Figure size 720x720 with 2 Axes>"
            ]
          },
          "metadata": {
            "tags": []
          }
        }
      ]
    },
    {
      "metadata": {
        "id": "F88Yiro2hMcF",
        "colab_type": "code",
        "outputId": "8ac1001a-3e11-4f0e-84d7-5af215063f22",
        "colab": {
          "base_uri": "https://localhost:8080/",
          "height": 51
        }
      },
      "cell_type": "code",
      "source": [
        "precision,recall,f1,support=precision_recall_fscore_support(lr.predict(test_onehot), test_labels,beta =1.0)"
      ],
      "execution_count": 0,
      "outputs": [
        {
          "output_type": "stream",
          "text": [
            "/usr/local/lib/python3.6/dist-packages/sklearn/metrics/classification.py:1145: UndefinedMetricWarning: Recall and F-score are ill-defined and being set to 0.0 in labels with no true samples.\n",
            "  'recall', 'true', average, warn_for)\n"
          ],
          "name": "stderr"
        }
      ]
    },
    {
      "metadata": {
        "id": "Hbti9Hz4z336",
        "colab_type": "code",
        "outputId": "26ff2ea9-dedc-480c-b931-d433d467cde6",
        "colab": {
          "base_uri": "https://localhost:8080/",
          "height": 913
        }
      },
      "cell_type": "code",
      "source": [
        "fig=plt.figure(figsize=(8,8))\n",
        "ax=fig.add_subplot(1,1,1)\n",
        "ax.bar(height=f1,x=[x for x in range(20)],color=\"#0075FF\")\n",
        "ax.set_ylim([0,1])\n",
        "ax.set_xticks([x for x in range(20)])\n",
        "ax.set_xticklabels(le.classes_,fontsize=14,rotation=45,ha=\"right\", rotation_mode=\"anchor\")"
      ],
      "execution_count": 0,
      "outputs": [
        {
          "output_type": "execute_result",
          "data": {
            "text/plain": [
              "[Text(0, 0, 'askreddit'),\n",
              " Text(0, 0, 'atheism'),\n",
              " Text(0, 0, 'buildapc'),\n",
              " Text(0, 0, 'electronic_cigarette'),\n",
              " Text(0, 0, 'explainlikeimfive'),\n",
              " Text(0, 0, 'gaming'),\n",
              " Text(0, 0, 'hearthstone'),\n",
              " Text(0, 0, 'jailbreak'),\n",
              " Text(0, 0, 'leagueoflegends'),\n",
              " Text(0, 0, 'movies'),\n",
              " Text(0, 0, 'pcmasterrace'),\n",
              " Text(0, 0, 'personalfinance'),\n",
              " Text(0, 0, 'reddit.com'),\n",
              " Text(0, 0, 'relationships'),\n",
              " Text(0, 0, 'starcraft'),\n",
              " Text(0, 0, 'summonerschool'),\n",
              " Text(0, 0, 'techsupport'),\n",
              " Text(0, 0, 'tipofmytongue'),\n",
              " Text(0, 0, 'trees'),\n",
              " Text(0, 0, 'whowouldwin')]"
            ]
          },
          "metadata": {
            "tags": []
          },
          "execution_count": 312
        },
        {
          "output_type": "display_data",
          "data": {
            "image/png": "[encoded data removed]",
            "text/plain": [
              "<Figure size 576x576 with 1 Axes>"
            ]
          },
          "metadata": {
            "tags": []
          }
        }
      ]
    },
    {
      "metadata": {
        "id": "S4pb0PMo5UQc",
        "colab_type": "text"
      },
      "cell_type": "markdown",
      "source": [
        "### Q2:optimization"
      ]
    },
    {
      "metadata": {
        "id": "A_JcY3cBwrcH",
        "colab_type": "text"
      },
      "cell_type": "markdown",
      "source": [
        "#### tuning parameters"
      ]
    },
    {
      "metadata": {
        "id": "GyJ8KfgXhF4Q",
        "colab_type": "text"
      },
      "cell_type": "markdown",
      "source": [
        "posts-vectorizer"
      ]
    },
    {
      "metadata": {
        "id": "Xyr6-qLwXBfw",
        "colab_type": "code",
        "colab": {}
      },
      "cell_type": "code",
      "source": [
        "tf_idfpipe= Pipeline([\n",
        "        ('union', FeatureUnion(\n",
        "          transformer_list=[\n",
        "            ('title', Pipeline([\n",
        "              ('selector', ItemSelector(key='title')),\n",
        "              ('tf-idf', TfidfVectorizer(tokenizer=tokenize_normalize, binary=False)), \n",
        "              ])),\n",
        "            ('posts', Pipeline([\n",
        "              ('selector', ItemSelector(key='posts')),\n",
        "              ('tf-idf', TfidfVectorizer(tokenizer=tokenize_normalize, binary=False)), \n",
        "              ])),\n",
        "            ('author', Pipeline([\n",
        "              ('selector', ItemSelector(key='author')),\n",
        "              ('tf-idf', TfidfVectorizer(tokenizer=author_token, binary=False)), \n",
        "              ])),\n",
        "        ])\n",
        "        )\n",
        "    ])"
      ],
      "execution_count": 0,
      "outputs": []
    },
    {
      "metadata": {
        "id": "WYIKittu51p6",
        "colab_type": "code",
        "outputId": "ea22b8db-5e5e-41ea-844b-65c966066954",
        "colab": {
          "base_uri": "https://localhost:8080/",
          "height": 289
        }
      },
      "cell_type": "code",
      "source": [
        "from scipy.stats import expon\n",
        "from sklearn.model_selection import GridSearchCV\n",
        "lr_tune_pipeline=Pipeline([\n",
        "    (\"tfidf\",tf_idfpipe),\n",
        "    (\"logistic\",LogisticRegression(solver='saga',multi_class=\"ovr\"))\n",
        "])\n",
        "params = {\n",
        "    \"tfidf__union__posts__tf-idf__ngram_range\":[(1,1),(1,2),(1,3)],\n",
        "    \"tfidf__union__posts__tf-idf__max_features\":[None,1000,10000,50000],\n",
        "    \"tfidf__union__posts__tf-idf__sublinear_tf\":[True,False],  \n",
        "}\n",
        "grid_search = GridSearchCV(lr_tune_pipeline, param_grid=params, n_jobs=1, verbose=1, scoring='f1_macro', cv=2)\n",
        "\n",
        "print(\"Performing grid search...\")\n",
        "print(\"pipeline:\", [name for name, _ in lr_tune_pipeline.steps])\n",
        "print(\"parameters:\")\n",
        "print(params)\n",
        "grid_search.fit(train_data, train_labels)\n",
        "\n",
        "print(\"Best score: %0.3f\" % grid_search.best_score_)\n",
        "print(\"Best parameters set:\")\n",
        "best_parameters = grid_search.best_estimator_.get_params()\n",
        "for param_name in sorted(params.keys()):\n",
        "  print(\"\\t%s: %r\" % (param_name, best_parameters[param_name]))"
      ],
      "execution_count": 0,
      "outputs": [
        {
          "output_type": "stream",
          "text": [
            "Performing grid search...\n",
            "pipeline: ['tfidf', 'logistic']\n",
            "parameters:\n",
            "{'tfidf__union__posts__tf-idf__ngram_range': [(1, 1), (1, 2), (1, 3)], 'tfidf__union__posts__tf-idf__max_features': [None, 1000, 10000, 50000], 'tfidf__union__posts__tf-idf__sublinear_tf': [True, False]}\n",
            "Fitting 2 folds for each of 24 candidates, totalling 48 fits\n"
          ],
          "name": "stdout"
        },
        {
          "output_type": "stream",
          "text": [
            "[Parallel(n_jobs=1)]: Using backend SequentialBackend with 1 concurrent workers.\n",
            "/usr/local/lib/python3.6/dist-packages/sklearn/linear_model/sag.py:334: ConvergenceWarning: The max_iter was reached which means the coef_ did not converge\n",
            "  \"the coef_ did not converge\", ConvergenceWarning)\n",
            "/usr/local/lib/python3.6/dist-packages/sklearn/metrics/classification.py:1143: UndefinedMetricWarning: F-score is ill-defined and being set to 0.0 in labels with no predicted samples.\n",
            "  'precision', 'predicted', average, warn_for)\n",
            "[Parallel(n_jobs=1)]: Done  48 out of  48 | elapsed: 16.4min finished\n"
          ],
          "name": "stderr"
        },
        {
          "output_type": "stream",
          "text": [
            "Best score: 0.344\n",
            "Best parameters set:\n",
            "\ttfidf__union__posts__tf-idf__max_features: 1000\n",
            "\ttfidf__union__posts__tf-idf__ngram_range: (1, 1)\n",
            "\ttfidf__union__posts__tf-idf__sublinear_tf: False\n"
          ],
          "name": "stdout"
        }
      ]
    },
    {
      "metadata": {
        "id": "rHF9nhnfhCU4",
        "colab_type": "text"
      },
      "cell_type": "markdown",
      "source": [
        "title-vectorizer"
      ]
    },
    {
      "metadata": {
        "id": "scxJOiGpgqxA",
        "colab_type": "code",
        "outputId": "4f509361-e677-473d-a1c7-d1328f36151c",
        "colab": {
          "base_uri": "https://localhost:8080/",
          "height": 360
        }
      },
      "cell_type": "code",
      "source": [
        "params = {\n",
        "     \"tfidf__union__posts__tf-idf__ngram_range\":[(1,1)],\n",
        "    \"tfidf__union__posts__tf-idf__max_features\":[1000],\n",
        "    \"tfidf__union__posts__tf-idf__sublinear_tf\":[False],  \n",
        "    \"tfidf__union__title__tf-idf__ngram_range\":[(1,1),(1,2),(1,3)],\n",
        "    \"tfidf__union__title__tf-idf__max_features\":[None,1000,10000,50000],\n",
        "    \"tfidf__union__title__tf-idf__sublinear_tf\":[True,False],  \n",
        "}\n",
        "grid_search = GridSearchCV(lr_tune_pipeline, param_grid=params, n_jobs=1, verbose=1, scoring='f1_macro', cv=2)\n",
        "\n",
        "print(\"Performing grid search...\")\n",
        "print(\"pipeline:\", [name for name, _ in lr_tune_pipeline.steps])\n",
        "print(\"parameters:\")\n",
        "print(params)\n",
        "grid_search.fit(train_data, train_labels)\n",
        "\n",
        "print(\"Best score: %0.3f\" % grid_search.best_score_)\n",
        "print(\"Best parameters set:\")\n",
        "best_parameters = grid_search.best_estimator_.get_params()\n",
        "for param_name in sorted(params.keys()):\n",
        "  print(\"\\t%s: %r\" % (param_name, best_parameters[param_name]))"
      ],
      "execution_count": 0,
      "outputs": [
        {
          "output_type": "stream",
          "text": [
            "Performing grid search...\n",
            "pipeline: ['tfidf', 'logistic']\n",
            "parameters:\n",
            "{'tfidf__union__posts__tf-idf__ngram_range': [(1, 1)], 'tfidf__union__posts__tf-idf__max_features': [1000], 'tfidf__union__posts__tf-idf__sublinear_tf': [False], 'tfidf__union__title__tf-idf__ngram_range': [(1, 1), (1, 2), (1, 3)], 'tfidf__union__title__tf-idf__max_features': [None, 1000, 10000, 50000], 'tfidf__union__title__tf-idf__sublinear_tf': [True, False]}\n",
            "Fitting 2 folds for each of 24 candidates, totalling 48 fits\n"
          ],
          "name": "stdout"
        },
        {
          "output_type": "stream",
          "text": [
            "[Parallel(n_jobs=1)]: Using backend SequentialBackend with 1 concurrent workers.\n",
            "/usr/local/lib/python3.6/dist-packages/sklearn/linear_model/sag.py:334: ConvergenceWarning: The max_iter was reached which means the coef_ did not converge\n",
            "  \"the coef_ did not converge\", ConvergenceWarning)\n",
            "/usr/local/lib/python3.6/dist-packages/sklearn/metrics/classification.py:1143: UndefinedMetricWarning: F-score is ill-defined and being set to 0.0 in labels with no predicted samples.\n",
            "  'precision', 'predicted', average, warn_for)\n",
            "[Parallel(n_jobs=1)]: Done  48 out of  48 | elapsed:  9.1min finished\n"
          ],
          "name": "stderr"
        },
        {
          "output_type": "stream",
          "text": [
            "Best score: 0.378\n",
            "Best parameters set:\n",
            "\ttfidf__union__posts__tf-idf__max_features: 1000\n",
            "\ttfidf__union__posts__tf-idf__ngram_range: (1, 1)\n",
            "\ttfidf__union__posts__tf-idf__sublinear_tf: False\n",
            "\ttfidf__union__title__tf-idf__max_features: 1000\n",
            "\ttfidf__union__title__tf-idf__ngram_range: (1, 1)\n",
            "\ttfidf__union__title__tf-idf__sublinear_tf: True\n"
          ],
          "name": "stdout"
        }
      ]
    },
    {
      "metadata": {
        "id": "TlY8peQpjJY_",
        "colab_type": "code",
        "outputId": "1a8a301e-636c-4846-8483-798368e88e3c",
        "colab": {
          "base_uri": "https://localhost:8080/",
          "height": 445
        }
      },
      "cell_type": "code",
      "source": [
        "params = {\n",
        "    \"tfidf__union__posts__tf-idf__ngram_range\":[(1,1)],\n",
        "    \"tfidf__union__posts__tf-idf__max_features\":[1000],\n",
        "    \"tfidf__union__posts__tf-idf__sublinear_tf\":[False],  \n",
        "    \"tfidf__union__title__tf-idf__ngram_range\":[(1,1)],\n",
        "    \"tfidf__union__title__tf-idf__max_features\":[1000],\n",
        "    \"tfidf__union__title__tf-idf__sublinear_tf\":[True],  \n",
        "    \"tfidf__union__author__tf-idf__ngram_range\":[(1,1),(1,2),(1,3)],\n",
        "    \"tfidf__union__author__tf-idf__max_features\":[None,1000,10000,50000],\n",
        "    \"tfidf__union__author__tf-idf__sublinear_tf\":[True,False],  \n",
        "}\n",
        "grid_search = GridSearchCV(lr_tune_pipeline, param_grid=params, n_jobs=1, verbose=1, scoring='f1_macro', cv=2)\n",
        "\n",
        "print(\"Performing grid search...\")\n",
        "print(\"pipeline:\", [name for name, _ in lr_tune_pipeline.steps])\n",
        "print(\"parameters:\")\n",
        "print(params)\n",
        "grid_search.fit(train_data, train_labels)\n",
        "\n",
        "print(\"Best score: %0.3f\" % grid_search.best_score_)\n",
        "print(\"Best parameters set:\")\n",
        "best_parameters = grid_search.best_estimator_.get_params()\n",
        "for param_name in sorted(params.keys()):\n",
        "  print(\"\\t%s: %r\" % (param_name, best_parameters[param_name]))"
      ],
      "execution_count": 0,
      "outputs": [
        {
          "output_type": "stream",
          "text": [
            "Performing grid search...\n",
            "pipeline: ['tfidf', 'logistic']\n",
            "parameters:\n",
            "{'tfidf__union__posts__tf-idf__ngram_range': [(1, 1)], 'tfidf__union__posts__tf-idf__max_features': [1000], 'tfidf__union__posts__tf-idf__sublinear_tf': [False], 'tfidf__union__title__tf-idf__ngram_range': [(1, 1)], 'tfidf__union__title__tf-idf__max_features': [1000], 'tfidf__union__title__tf-idf__sublinear_tf': [True], 'tfidf__union__author__tf-idf__ngram_range': [(1, 1), (1, 2), (1, 3)], 'tfidf__union__author__tf-idf__max_features': [None, 1000, 10000, 50000], 'tfidf__union__author__tf-idf__sublinear_tf': [True, False]}\n",
            "Fitting 2 folds for each of 24 candidates, totalling 48 fits\n"
          ],
          "name": "stdout"
        },
        {
          "output_type": "stream",
          "text": [
            "[Parallel(n_jobs=1)]: Using backend SequentialBackend with 1 concurrent workers.\n",
            "/usr/local/lib/python3.6/dist-packages/sklearn/linear_model/sag.py:334: ConvergenceWarning: The max_iter was reached which means the coef_ did not converge\n",
            "  \"the coef_ did not converge\", ConvergenceWarning)\n",
            "/usr/local/lib/python3.6/dist-packages/sklearn/metrics/classification.py:1143: UndefinedMetricWarning: F-score is ill-defined and being set to 0.0 in labels with no predicted samples.\n",
            "  'precision', 'predicted', average, warn_for)\n",
            "[Parallel(n_jobs=1)]: Done  48 out of  48 | elapsed:  8.9min finished\n",
            "/usr/local/lib/python3.6/dist-packages/sklearn/model_selection/_search.py:841: DeprecationWarning: The default of the `iid` parameter will change from True to False in version 0.22 and will be removed in 0.24. This will change numeric results when test-set sizes are unequal.\n",
            "  DeprecationWarning)\n"
          ],
          "name": "stderr"
        },
        {
          "output_type": "stream",
          "text": [
            "Best score: 0.387\n",
            "Best parameters set:\n",
            "\ttfidf__union__author__tf-idf__max_features: None\n",
            "\ttfidf__union__author__tf-idf__ngram_range: (1, 1)\n",
            "\ttfidf__union__author__tf-idf__sublinear_tf: True\n",
            "\ttfidf__union__posts__tf-idf__max_features: 1000\n",
            "\ttfidf__union__posts__tf-idf__ngram_range: (1, 1)\n",
            "\ttfidf__union__posts__tf-idf__sublinear_tf: False\n",
            "\ttfidf__union__title__tf-idf__max_features: 1000\n",
            "\ttfidf__union__title__tf-idf__ngram_range: (1, 1)\n",
            "\ttfidf__union__title__tf-idf__sublinear_tf: True\n"
          ],
          "name": "stdout"
        }
      ]
    },
    {
      "metadata": {
        "id": "yfc9ouXXll4b",
        "colab_type": "code",
        "colab": {}
      },
      "cell_type": "code",
      "source": [
        "tf_idfpipe= Pipeline([\n",
        "        ('union', FeatureUnion(\n",
        "          transformer_list=[\n",
        "            ('title', Pipeline([\n",
        "              ('selector', ItemSelector(key='title')),\n",
        "              ('tf-idf', TfidfVectorizer(tokenizer=tokenize_normalize, binary=False,max_features=1000,ngram_range=(1,1),sublinear_tf=True)), \n",
        "              ])),\n",
        "            ('posts', Pipeline([\n",
        "              ('selector', ItemSelector(key='posts')),\n",
        "              ('tf-idf', TfidfVectorizer(tokenizer=tokenize_normalize, binary=False,max_features=1000,ngram_range=(1,1),sublinear_tf=False)), \n",
        "              ])),\n",
        "            ('author', Pipeline([\n",
        "              ('selector', ItemSelector(key='author')),\n",
        "              ('tf-idf', TfidfVectorizer(tokenizer=author_token, binary=False,max_features=None,ngram_range=(1,1),sublinear_tf=True)), \n",
        "              ])),\n",
        "        ])\n",
        "        )\n",
        "    ])"
      ],
      "execution_count": 0,
      "outputs": []
    },
    {
      "metadata": {
        "id": "SrTpj1iyl8sj",
        "colab_type": "code",
        "outputId": "12d37ed4-abc7-48f6-8f96-6f75dddc76ed",
        "colab": {
          "base_uri": "https://localhost:8080/",
          "height": 1071
        }
      },
      "cell_type": "code",
      "source": [
        "params = {\n",
        "    \"logistic__solver\":[\"saga\",\"newton-cg\",\"liblinear\"],\n",
        "    \"logistic__C\":[10**x for x in range(-3,5)],\n",
        "    \"logistic__multi_class\":[\"ovr\"]\n",
        "    \n",
        "}\n",
        "grid_search = GridSearchCV(lr_tune_pipeline, param_grid=params, n_jobs=1, verbose=1, scoring='f1_macro', cv=2)\n",
        "\n",
        "print(\"Performing grid search...\")\n",
        "print(\"pipeline:\", [name for name, _ in lr_tune_pipeline.steps])\n",
        "print(\"parameters:\")\n",
        "print(params)\n",
        "grid_search.fit(train_data, train_labels)\n",
        "\n",
        "print(\"Best score: %0.3f\" % grid_search.best_score_)\n",
        "print(\"Best parameters set:\")\n",
        "best_parameters = grid_search.best_estimator_.get_params()\n",
        "for param_name in sorted(params.keys()):\n",
        "  print(\"\\t%s: %r\" % (param_name, best_parameters[param_name]))"
      ],
      "execution_count": 0,
      "outputs": [
        {
          "output_type": "stream",
          "text": [
            "Performing grid search...\n",
            "pipeline: ['tfidf', 'logistic']\n",
            "parameters:\n",
            "{'logistic__solver': ['saga', 'newton-cg', 'liblinear'], 'logistic__C': [0.001, 0.01, 0.1, 1, 10, 100, 1000, 10000], 'logistic__multi_class': ['ovr']}\n",
            "Fitting 2 folds for each of 24 candidates, totalling 48 fits\n"
          ],
          "name": "stdout"
        },
        {
          "output_type": "stream",
          "text": [
            "[Parallel(n_jobs=1)]: Using backend SequentialBackend with 1 concurrent workers.\n",
            "/usr/local/lib/python3.6/dist-packages/sklearn/linear_model/sag.py:334: ConvergenceWarning: The max_iter was reached which means the coef_ did not converge\n",
            "  \"the coef_ did not converge\", ConvergenceWarning)\n",
            "/usr/local/lib/python3.6/dist-packages/sklearn/metrics/classification.py:1143: UndefinedMetricWarning: F-score is ill-defined and being set to 0.0 in labels with no predicted samples.\n",
            "  'precision', 'predicted', average, warn_for)\n",
            "/usr/local/lib/python3.6/dist-packages/sklearn/metrics/classification.py:1143: UndefinedMetricWarning: F-score is ill-defined and being set to 0.0 in labels with no predicted samples.\n",
            "  'precision', 'predicted', average, warn_for)\n",
            "/usr/local/lib/python3.6/dist-packages/sklearn/metrics/classification.py:1143: UndefinedMetricWarning: F-score is ill-defined and being set to 0.0 in labels with no predicted samples.\n",
            "  'precision', 'predicted', average, warn_for)\n",
            "/usr/local/lib/python3.6/dist-packages/sklearn/linear_model/sag.py:334: ConvergenceWarning: The max_iter was reached which means the coef_ did not converge\n",
            "  \"the coef_ did not converge\", ConvergenceWarning)\n",
            "/usr/local/lib/python3.6/dist-packages/sklearn/metrics/classification.py:1143: UndefinedMetricWarning: F-score is ill-defined and being set to 0.0 in labels with no predicted samples.\n",
            "  'precision', 'predicted', average, warn_for)\n",
            "/usr/local/lib/python3.6/dist-packages/sklearn/metrics/classification.py:1143: UndefinedMetricWarning: F-score is ill-defined and being set to 0.0 in labels with no predicted samples.\n",
            "  'precision', 'predicted', average, warn_for)\n",
            "/usr/local/lib/python3.6/dist-packages/sklearn/linear_model/sag.py:334: ConvergenceWarning: The max_iter was reached which means the coef_ did not converge\n",
            "  \"the coef_ did not converge\", ConvergenceWarning)\n",
            "/usr/local/lib/python3.6/dist-packages/sklearn/metrics/classification.py:1143: UndefinedMetricWarning: F-score is ill-defined and being set to 0.0 in labels with no predicted samples.\n",
            "  'precision', 'predicted', average, warn_for)\n",
            "/usr/local/lib/python3.6/dist-packages/sklearn/metrics/classification.py:1143: UndefinedMetricWarning: F-score is ill-defined and being set to 0.0 in labels with no predicted samples.\n",
            "  'precision', 'predicted', average, warn_for)\n",
            "/usr/local/lib/python3.6/dist-packages/sklearn/linear_model/sag.py:334: ConvergenceWarning: The max_iter was reached which means the coef_ did not converge\n",
            "  \"the coef_ did not converge\", ConvergenceWarning)\n",
            "/usr/local/lib/python3.6/dist-packages/sklearn/metrics/classification.py:1143: UndefinedMetricWarning: F-score is ill-defined and being set to 0.0 in labels with no predicted samples.\n",
            "  'precision', 'predicted', average, warn_for)\n",
            "/usr/local/lib/python3.6/dist-packages/sklearn/metrics/classification.py:1143: UndefinedMetricWarning: F-score is ill-defined and being set to 0.0 in labels with no predicted samples.\n",
            "  'precision', 'predicted', average, warn_for)\n",
            "/usr/local/lib/python3.6/dist-packages/sklearn/linear_model/sag.py:334: ConvergenceWarning: The max_iter was reached which means the coef_ did not converge\n",
            "  \"the coef_ did not converge\", ConvergenceWarning)\n",
            "/usr/local/lib/python3.6/dist-packages/sklearn/metrics/classification.py:1143: UndefinedMetricWarning: F-score is ill-defined and being set to 0.0 in labels with no predicted samples.\n",
            "  'precision', 'predicted', average, warn_for)\n",
            "/usr/local/lib/python3.6/dist-packages/sklearn/metrics/classification.py:1143: UndefinedMetricWarning: F-score is ill-defined and being set to 0.0 in labels with no predicted samples.\n",
            "  'precision', 'predicted', average, warn_for)\n",
            "/usr/local/lib/python3.6/dist-packages/sklearn/linear_model/sag.py:334: ConvergenceWarning: The max_iter was reached which means the coef_ did not converge\n",
            "  \"the coef_ did not converge\", ConvergenceWarning)\n",
            "/usr/local/lib/python3.6/dist-packages/sklearn/metrics/classification.py:1143: UndefinedMetricWarning: F-score is ill-defined and being set to 0.0 in labels with no predicted samples.\n",
            "  'precision', 'predicted', average, warn_for)\n",
            "/usr/local/lib/python3.6/dist-packages/sklearn/metrics/classification.py:1143: UndefinedMetricWarning: F-score is ill-defined and being set to 0.0 in labels with no predicted samples.\n",
            "  'precision', 'predicted', average, warn_for)\n",
            "/usr/local/lib/python3.6/dist-packages/sklearn/linear_model/sag.py:334: ConvergenceWarning: The max_iter was reached which means the coef_ did not converge\n",
            "  \"the coef_ did not converge\", ConvergenceWarning)\n",
            "/usr/local/lib/python3.6/dist-packages/sklearn/metrics/classification.py:1143: UndefinedMetricWarning: F-score is ill-defined and being set to 0.0 in labels with no predicted samples.\n",
            "  'precision', 'predicted', average, warn_for)\n",
            "/usr/local/lib/python3.6/dist-packages/sklearn/metrics/classification.py:1143: UndefinedMetricWarning: F-score is ill-defined and being set to 0.0 in labels with no predicted samples.\n",
            "  'precision', 'predicted', average, warn_for)\n",
            "/usr/local/lib/python3.6/dist-packages/sklearn/linear_model/sag.py:334: ConvergenceWarning: The max_iter was reached which means the coef_ did not converge\n",
            "  \"the coef_ did not converge\", ConvergenceWarning)\n",
            "/usr/local/lib/python3.6/dist-packages/sklearn/metrics/classification.py:1143: UndefinedMetricWarning: F-score is ill-defined and being set to 0.0 in labels with no predicted samples.\n",
            "  'precision', 'predicted', average, warn_for)\n",
            "/usr/local/lib/python3.6/dist-packages/sklearn/metrics/classification.py:1143: UndefinedMetricWarning: F-score is ill-defined and being set to 0.0 in labels with no predicted samples.\n",
            "  'precision', 'predicted', average, warn_for)\n",
            "[Parallel(n_jobs=1)]: Done  48 out of  48 | elapsed:  8.1min finished\n"
          ],
          "name": "stderr"
        },
        {
          "output_type": "stream",
          "text": [
            "Best score: 0.501\n",
            "Best parameters set:\n",
            "\tlogistic__C: 1000\n",
            "\tlogistic__multi_class: 'ovr'\n",
            "\tlogistic__solver: 'newton-cg'\n"
          ],
          "name": "stdout"
        }
      ]
    },
    {
      "metadata": {
        "id": "E_TTrhQHvwM_",
        "colab_type": "text"
      },
      "cell_type": "markdown",
      "source": [
        "**drop stopwords modification**"
      ]
    },
    {
      "metadata": {
        "id": "QvXbObROnE3I",
        "colab_type": "code",
        "colab": {}
      },
      "cell_type": "code",
      "source": [
        "lr_bestmodel_pipeline=Pipeline([\n",
        "    ('union', FeatureUnion(\n",
        "          transformer_list=[\n",
        "            ('title', Pipeline([\n",
        "              ('selector', ItemSelector(key='title')),\n",
        "              ('tf-idf', TfidfVectorizer(tokenizer=tokenize_normalize, binary=False,max_features=1000,ngram_range=(1,1),sublinear_tf=True)), \n",
        "              ])),\n",
        "            ('posts', Pipeline([\n",
        "              ('selector', ItemSelector(key='posts')),\n",
        "              ('tf-idf', TfidfVectorizer(tokenizer=tokenize_normalize, binary=False,max_features=1000,ngram_range=(1,1),sublinear_tf=True)), \n",
        "              ])),\n",
        "            ('author', Pipeline([\n",
        "              ('selector', ItemSelector(key='author')),\n",
        "              ('tf-idf', TfidfVectorizer(tokenizer=author_token, binary=False,max_features=50000,ngram_range=(1,1),sublinear_tf=True)), \n",
        "              ])),\n",
        "        ])\n",
        "        ),\n",
        "    (\"logistic\",LogisticRegression(solver='newton-cg',multi_class=\"ovr\",C=1000))\n",
        "])"
      ],
      "execution_count": 0,
      "outputs": []
    },
    {
      "metadata": {
        "id": "zvVPDK3AmKQR",
        "colab_type": "code",
        "outputId": "fb64fa45-e883-4537-a97e-debf6ce1ad8a",
        "colab": {
          "base_uri": "https://localhost:8080/",
          "height": 955
        }
      },
      "cell_type": "code",
      "source": [
        "params = {\n",
        "    \"union__posts__tf-idf__stop_words\":[None,\"english\"],\n",
        "    \"union__title__tf-idf__stop_words\":[None,\"english\"],\n",
        "    \"logistic__multi_class\":[\"ovr\", \"multinomial\"]\n",
        "    \n",
        "}\n",
        "grid_search = GridSearchCV(lr_bestmodel_pipeline, param_grid=params, n_jobs=1, verbose=1, scoring='f1_macro', cv=2)\n",
        "\n",
        "print(\"Performing grid search...\")\n",
        "print(\"pipeline:\", [name for name, _ in lr_bestmodel_pipeline.steps])\n",
        "print(\"parameters:\")\n",
        "print(params)\n",
        "grid_search.fit(train_data, train_labels)\n",
        "\n",
        "print(\"Best score: %0.3f\" % grid_search.best_score_)\n",
        "print(\"Best parameters set:\")\n",
        "best_parameters = grid_search.best_estimator_.get_params()\n",
        "for param_name in sorted(params.keys()):\n",
        "  print(\"\\t%s: %r\" % (param_name, best_parameters[param_name]))"
      ],
      "execution_count": 0,
      "outputs": [
        {
          "output_type": "stream",
          "text": [
            "Performing grid search...\n",
            "pipeline: ['union', 'logistic']\n",
            "parameters:\n",
            "{'union__posts__tf-idf__stop_words': [None, 'english'], 'union__title__tf-idf__stop_words': [None, 'english'], 'logistic__multi_class': ['ovr', 'multinomial']}\n",
            "Fitting 2 folds for each of 8 candidates, totalling 16 fits\n"
          ],
          "name": "stdout"
        },
        {
          "output_type": "stream",
          "text": [
            "[Parallel(n_jobs=1)]: Using backend SequentialBackend with 1 concurrent workers.\n",
            "/usr/local/lib/python3.6/dist-packages/sklearn/metrics/classification.py:1143: UndefinedMetricWarning: F-score is ill-defined and being set to 0.0 in labels with no predicted samples.\n",
            "  'precision', 'predicted', average, warn_for)\n",
            "/usr/local/lib/python3.6/dist-packages/sklearn/feature_extraction/text.py:301: UserWarning: Your stop_words may be inconsistent with your preprocessing. Tokenizing the stop words generated tokens ['3', 'far', 'good', 'little', 'make', '\\ufeff1'] not in stop_words.\n",
            "  'stop_words.' % sorted(inconsistent))\n",
            "/usr/local/lib/python3.6/dist-packages/sklearn/metrics/classification.py:1143: UndefinedMetricWarning: F-score is ill-defined and being set to 0.0 in labels with no predicted samples.\n",
            "  'precision', 'predicted', average, warn_for)\n",
            "/usr/local/lib/python3.6/dist-packages/sklearn/feature_extraction/text.py:301: UserWarning: Your stop_words may be inconsistent with your preprocessing. Tokenizing the stop words generated tokens ['3', 'far', 'good', 'little', 'make', '\\ufeff1'] not in stop_words.\n",
            "  'stop_words.' % sorted(inconsistent))\n",
            "/usr/local/lib/python3.6/dist-packages/sklearn/feature_extraction/text.py:301: UserWarning: Your stop_words may be inconsistent with your preprocessing. Tokenizing the stop words generated tokens ['3', 'far', 'good', 'little', 'make', '\\ufeff1'] not in stop_words.\n",
            "  'stop_words.' % sorted(inconsistent))\n",
            "/usr/local/lib/python3.6/dist-packages/sklearn/metrics/classification.py:1143: UndefinedMetricWarning: F-score is ill-defined and being set to 0.0 in labels with no predicted samples.\n",
            "  'precision', 'predicted', average, warn_for)\n",
            "/usr/local/lib/python3.6/dist-packages/sklearn/feature_extraction/text.py:301: UserWarning: Your stop_words may be inconsistent with your preprocessing. Tokenizing the stop words generated tokens ['3', 'far', 'good', 'little', 'make', '\\ufeff1'] not in stop_words.\n",
            "  'stop_words.' % sorted(inconsistent))\n",
            "/usr/local/lib/python3.6/dist-packages/sklearn/feature_extraction/text.py:301: UserWarning: Your stop_words may be inconsistent with your preprocessing. Tokenizing the stop words generated tokens ['3', 'far', 'good', 'little', 'make', '\\ufeff1'] not in stop_words.\n",
            "  'stop_words.' % sorted(inconsistent))\n",
            "/usr/local/lib/python3.6/dist-packages/sklearn/metrics/classification.py:1143: UndefinedMetricWarning: F-score is ill-defined and being set to 0.0 in labels with no predicted samples.\n",
            "  'precision', 'predicted', average, warn_for)\n",
            "/usr/local/lib/python3.6/dist-packages/sklearn/feature_extraction/text.py:301: UserWarning: Your stop_words may be inconsistent with your preprocessing. Tokenizing the stop words generated tokens ['3', 'far', 'good', 'little', 'make', '\\ufeff1'] not in stop_words.\n",
            "  'stop_words.' % sorted(inconsistent))\n",
            "/usr/local/lib/python3.6/dist-packages/sklearn/metrics/classification.py:1143: UndefinedMetricWarning: F-score is ill-defined and being set to 0.0 in labels with no predicted samples.\n",
            "  'precision', 'predicted', average, warn_for)\n",
            "/usr/local/lib/python3.6/dist-packages/sklearn/feature_extraction/text.py:301: UserWarning: Your stop_words may be inconsistent with your preprocessing. Tokenizing the stop words generated tokens ['3', 'far', 'good', 'little', 'make', '\\ufeff1'] not in stop_words.\n",
            "  'stop_words.' % sorted(inconsistent))\n",
            "/usr/local/lib/python3.6/dist-packages/sklearn/metrics/classification.py:1143: UndefinedMetricWarning: F-score is ill-defined and being set to 0.0 in labels with no predicted samples.\n",
            "  'precision', 'predicted', average, warn_for)\n",
            "/usr/local/lib/python3.6/dist-packages/sklearn/feature_extraction/text.py:301: UserWarning: Your stop_words may be inconsistent with your preprocessing. Tokenizing the stop words generated tokens ['3', 'far', 'good', 'little', 'make', '\\ufeff1'] not in stop_words.\n",
            "  'stop_words.' % sorted(inconsistent))\n",
            "/usr/local/lib/python3.6/dist-packages/sklearn/feature_extraction/text.py:301: UserWarning: Your stop_words may be inconsistent with your preprocessing. Tokenizing the stop words generated tokens ['3', 'far', 'good', 'little', 'make', '\\ufeff1'] not in stop_words.\n",
            "  'stop_words.' % sorted(inconsistent))\n",
            "/usr/local/lib/python3.6/dist-packages/sklearn/metrics/classification.py:1143: UndefinedMetricWarning: F-score is ill-defined and being set to 0.0 in labels with no predicted samples.\n",
            "  'precision', 'predicted', average, warn_for)\n",
            "/usr/local/lib/python3.6/dist-packages/sklearn/feature_extraction/text.py:301: UserWarning: Your stop_words may be inconsistent with your preprocessing. Tokenizing the stop words generated tokens ['3', 'far', 'good', 'little', 'make', '\\ufeff1'] not in stop_words.\n",
            "  'stop_words.' % sorted(inconsistent))\n",
            "/usr/local/lib/python3.6/dist-packages/sklearn/feature_extraction/text.py:301: UserWarning: Your stop_words may be inconsistent with your preprocessing. Tokenizing the stop words generated tokens ['3', 'far', 'good', 'little', 'make', '\\ufeff1'] not in stop_words.\n",
            "  'stop_words.' % sorted(inconsistent))\n",
            "/usr/local/lib/python3.6/dist-packages/sklearn/metrics/classification.py:1143: UndefinedMetricWarning: F-score is ill-defined and being set to 0.0 in labels with no predicted samples.\n",
            "  'precision', 'predicted', average, warn_for)\n",
            "/usr/local/lib/python3.6/dist-packages/sklearn/feature_extraction/text.py:301: UserWarning: Your stop_words may be inconsistent with your preprocessing. Tokenizing the stop words generated tokens ['3', 'far', 'good', 'little', 'make', '\\ufeff1'] not in stop_words.\n",
            "  'stop_words.' % sorted(inconsistent))\n",
            "[Parallel(n_jobs=1)]: Done  16 out of  16 | elapsed:  2.6min finished\n",
            "/usr/local/lib/python3.6/dist-packages/sklearn/feature_extraction/text.py:301: UserWarning: Your stop_words may be inconsistent with your preprocessing. Tokenizing the stop words generated tokens ['3', 'far', 'good', 'little', 'make', '\\ufeff1'] not in stop_words.\n",
            "  'stop_words.' % sorted(inconsistent))\n"
          ],
          "name": "stderr"
        },
        {
          "output_type": "stream",
          "text": [
            "Best score: 0.553\n",
            "Best parameters set:\n",
            "\tlogistic__multi_class: 'multinomial'\n",
            "\tunion__posts__tf-idf__stop_words: 'english'\n",
            "\tunion__title__tf-idf__stop_words: None\n"
          ],
          "name": "stdout"
        }
      ]
    },
    {
      "metadata": {
        "id": "GeCK70h7GFSm",
        "colab_type": "code",
        "colab": {}
      },
      "cell_type": "code",
      "source": [
        "lr_bestmodel_pipeline=Pipeline([\n",
        "    ('union', FeatureUnion(\n",
        "          transformer_list=[\n",
        "            ('title', Pipeline([\n",
        "              ('selector', ItemSelector(key='title')),\n",
        "              ('tf-idf', TfidfVectorizer(tokenizer=tokenize_normalize, binary=False,max_features=1000,ngram_range=(1,1),sublinear_tf=True)), \n",
        "              ])),\n",
        "            ('posts', Pipeline([\n",
        "              ('selector', ItemSelector(key='posts')),\n",
        "              ('tf-idf', TfidfVectorizer(tokenizer=tokenize_normalize, binary=False,max_features=1000,ngram_range=(1,1),sublinear_tf=True,stop_words='english')), \n",
        "              ])),\n",
        "            ('author', Pipeline([\n",
        "              ('selector', ItemSelector(key='author')),\n",
        "              ('tf-idf', TfidfVectorizer(tokenizer=author_token, binary=False,max_features=50000,ngram_range=(1,1),sublinear_tf=True)), \n",
        "              ])),\n",
        "        ])\n",
        "        ),\n",
        "    (\"logistic\",LogisticRegression(solver='newton-cg',multi_class='multinomial',C=1000))\n",
        "])"
      ],
      "execution_count": 0,
      "outputs": []
    },
    {
      "metadata": {
        "id": "gpG3E9FVqPKT",
        "colab_type": "code",
        "outputId": "23cedd29-d265-411a-9bff-bab83e561fdb",
        "colab": {
          "base_uri": "https://localhost:8080/",
          "height": 173
        }
      },
      "cell_type": "code",
      "source": [
        "lr_bestmodel_pipeline.fit(train_data,train_labels)"
      ],
      "execution_count": 0,
      "outputs": [
        {
          "output_type": "stream",
          "text": [
            "/usr/local/lib/python3.6/dist-packages/sklearn/feature_extraction/text.py:301: UserWarning: Your stop_words may be inconsistent with your preprocessing. Tokenizing the stop words generated tokens ['3', 'far', 'good', 'little', 'make', '\\ufeff1'] not in stop_words.\n",
            "  'stop_words.' % sorted(inconsistent))\n"
          ],
          "name": "stderr"
        },
        {
          "output_type": "execute_result",
          "data": {
            "text/plain": [
              "Pipeline(memory=None,\n",
              "     steps=[('union', FeatureUnion(n_jobs=None,\n",
              "       transformer_list=[('title', Pipeline(memory=None,\n",
              "     steps=[('selector', ItemSelector(key='title')), ('tf-idf', TfidfVectorizer(analyzer='word', binary=False, decode_error='strict',\n",
              "        dtype=<class 'numpy.float64'>, encoding='utf-8', input='co...ty='l2', random_state=None, solver='newton-cg',\n",
              "          tol=0.0001, verbose=0, warm_start=False))])"
            ]
          },
          "metadata": {
            "tags": []
          },
          "execution_count": 327
        }
      ]
    },
    {
      "metadata": {
        "id": "x9l31MfvGZXF",
        "colab_type": "code",
        "outputId": "e7c332ef-7310-4582-f97d-e27119a33b33",
        "colab": {
          "base_uri": "https://localhost:8080/",
          "height": 119
        }
      },
      "cell_type": "code",
      "source": [
        "precision,recall,f1,support=precision_recall_fscore_support(lr_bestmodel_pipeline.predict(test_data), test_labels,beta =1.0,average=\"macro\")\n",
        "accuracy = accuracy_score(lr_bestmodel_pipeline.predict(test_data), test_labels)\n",
        "print(\"accuracy:\",accuracy)\n",
        "print(\"precision:\",precision)\n",
        "print(\"recall:\",recall)\n",
        "print(\"f1-macro:\",f1)"
      ],
      "execution_count": 0,
      "outputs": [
        {
          "output_type": "stream",
          "text": [
            "/usr/local/lib/python3.6/dist-packages/sklearn/metrics/classification.py:1145: UndefinedMetricWarning: Recall and F-score are ill-defined and being set to 0.0 in labels with no true samples.\n",
            "  'recall', 'true', average, warn_for)\n"
          ],
          "name": "stderr"
        },
        {
          "output_type": "stream",
          "text": [
            "accuracy: 0.6986301369863014\n",
            "precision: 0.6674538965427713\n",
            "recall: 0.7307322826414502\n",
            "f1-macro: 0.6610959052651207\n"
          ],
          "name": "stdout"
        }
      ]
    },
    {
      "metadata": {
        "id": "LYQOYbDNw0fo",
        "colab_type": "text"
      },
      "cell_type": "markdown",
      "source": [
        "#### error analysis"
      ]
    },
    {
      "metadata": {
        "id": "KD9pufIAw67V",
        "colab_type": "code",
        "outputId": "3705d1f1-2128-4730-96eb-bd7b628a2e33",
        "colab": {
          "base_uri": "https://localhost:8080/",
          "height": 724
        }
      },
      "cell_type": "code",
      "source": [
        "plot_confusion_matrix(test_labels,lr_bestmodel_pipeline.predict(test_data), classes=le.classes_,\n",
        "                      title='Confusion matrix, without normalization')"
      ],
      "execution_count": 0,
      "outputs": [
        {
          "output_type": "stream",
          "text": [
            "Confusion matrix, without normalization\n"
          ],
          "name": "stdout"
        },
        {
          "output_type": "execute_result",
          "data": {
            "text/plain": [
              "<matplotlib.axes._subplots.AxesSubplot at 0x7f208545df60>"
            ]
          },
          "metadata": {
            "tags": []
          },
          "execution_count": 329
        },
        {
          "output_type": "display_data",
          "data": {
            "image/png": "[encoded data removed]",
            "text/plain": [
              "<Figure size 720x720 with 2 Axes>"
            ]
          },
          "metadata": {
            "tags": []
          }
        }
      ]
    },
    {
      "metadata": {
        "id": "8J45LO_by5RT",
        "colab_type": "code",
        "outputId": "82743672-44bd-4f2a-ab7b-697eb46af3a3",
        "colab": {
          "base_uri": "https://localhost:8080/",
          "height": 1003
        }
      },
      "cell_type": "code",
      "source": [
        "print(\"train_data:============================\")\n",
        "print(classification_report( train_labels,lr_bestmodel_pipeline.predict(train_data), digits=3,target_names=le.classes_))\n",
        "print(\"test_data:============================\")\n",
        "print(classification_report(test_labels,lr_bestmodel_pipeline.predict(test_data),  digits=3,target_names=le.classes_))\n"
      ],
      "execution_count": 0,
      "outputs": [
        {
          "output_type": "stream",
          "text": [
            "train_data:============================\n",
            "                      precision    recall  f1-score   support\n",
            "\n",
            "           askreddit      1.000     1.000     1.000       334\n",
            "             atheism      1.000     1.000     1.000        37\n",
            "            buildapc      1.000     1.000     1.000       131\n",
            "electronic_cigarette      1.000     1.000     1.000        59\n",
            "   explainlikeimfive      1.000     1.000     1.000        82\n",
            "              gaming      1.000     1.000     1.000        62\n",
            "         hearthstone      1.000     1.000     1.000        38\n",
            "           jailbreak      1.000     1.000     1.000        38\n",
            "     leagueoflegends      1.000     1.000     1.000       196\n",
            "              movies      1.000     1.000     1.000        33\n",
            "        pcmasterrace      1.000     1.000     1.000        62\n",
            "     personalfinance      1.000     1.000     1.000        32\n",
            "          reddit.com      1.000     1.000     1.000        34\n",
            "       relationships      1.000     1.000     1.000        48\n",
            "           starcraft      1.000     1.000     1.000        28\n",
            "      summonerschool      1.000     1.000     1.000        37\n",
            "         techsupport      1.000     1.000     1.000        63\n",
            "       tipofmytongue      1.000     1.000     1.000        43\n",
            "               trees      1.000     1.000     1.000        66\n",
            "         whowouldwin      1.000     1.000     1.000        33\n",
            "\n",
            "           micro avg      1.000     1.000     1.000      1456\n",
            "           macro avg      1.000     1.000     1.000      1456\n",
            "        weighted avg      1.000     1.000     1.000      1456\n",
            "\n",
            "test_data:============================\n",
            "                      precision    recall  f1-score   support\n",
            "\n",
            "           askreddit      0.878     0.774     0.823        84\n",
            "             atheism      1.000     0.583     0.737        12\n",
            "            buildapc      0.780     0.865     0.821        37\n",
            "electronic_cigarette      1.000     0.889     0.941         9\n",
            "   explainlikeimfive      0.476     0.714     0.571        14\n",
            "              gaming      0.448     0.765     0.565        17\n",
            "         hearthstone      0.889     0.533     0.667        15\n",
            "           jailbreak      1.000     0.818     0.900        11\n",
            "     leagueoflegends      0.773     0.708     0.739        48\n",
            "              movies      0.600     0.600     0.600         5\n",
            "        pcmasterrace      0.800     0.348     0.485        23\n",
            "     personalfinance      1.000     0.800     0.889        10\n",
            "          reddit.com      0.136     0.500     0.214         6\n",
            "       relationships      0.857     1.000     0.923         6\n",
            "           starcraft      0.000     0.000     0.000        10\n",
            "      summonerschool      1.000     0.333     0.500         6\n",
            "         techsupport      0.333     1.000     0.500        13\n",
            "       tipofmytongue      1.000     0.818     0.900        11\n",
            "               trees      0.786     0.550     0.647        20\n",
            "         whowouldwin      0.857     0.750     0.800         8\n",
            "\n",
            "           micro avg      0.699     0.699     0.699       365\n",
            "           macro avg      0.731     0.667     0.661       365\n",
            "        weighted avg      0.769     0.699     0.708       365\n",
            "\n"
          ],
          "name": "stdout"
        },
        {
          "output_type": "stream",
          "text": [
            "/usr/local/lib/python3.6/dist-packages/sklearn/metrics/classification.py:1143: UndefinedMetricWarning: Precision and F-score are ill-defined and being set to 0.0 in labels with no predicted samples.\n",
            "  'precision', 'predicted', average, warn_for)\n"
          ],
          "name": "stderr"
        }
      ]
    },
    {
      "metadata": {
        "id": "OPaMqFUwxAG_",
        "colab_type": "text"
      },
      "cell_type": "markdown",
      "source": [
        "Several errors:\n",
        "\n",
        "*   class 14: starcraft performs worse, all score is 0.\n",
        "*  low precision:\n",
        "\n",
        ">*  explainlikeimfive : 7 askreddit to it\n",
        "\n",
        "> * gaming : 4 askreddit, 3 summonerschool,  4 starcraft, 4 pcmasterrace\n",
        "\n",
        ">* reddit.com: 6 ask reddit\n",
        "\n",
        ">* techsupport: 7 pc 5 leageoflegend\n",
        "\n",
        "\n",
        "* low recall\n",
        "\n",
        ">* pcmasterrace  7 to tech 5 to game\n",
        "\n",
        ">* summonerschool 4 to leageoflegend\n",
        "\n",
        "\n",
        "\n"
      ]
    },
    {
      "metadata": {
        "id": "luKflsiFB9IQ",
        "colab_type": "text"
      },
      "cell_type": "markdown",
      "source": [
        "For test class 14: starcraft\n",
        "*   3 are predicted to class 12: reddit.com \n",
        "*   2 are predicted to class 16:  techsupport\n",
        "*   2 are predicted to class 8:  leagueoflegends\n",
        "\n",
        "class 12:reddit.com. \"the original subreddit\", content contains several topics, hard to classify.\n",
        "\n",
        "class 16: techsupport\n",
        "\n",
        "class 8: both are online-gamings.\n",
        "\n",
        "The 7th thread which is predicted to it contains Void Ray. Void Ray is a term in StarCraft 2.  When tokenizing, it will be split to void and ray wich is meaningless. As some titles will contain such terms, may be normalization should be re-considered. \n",
        "\n",
        "The 4th thread contains SC2 which is definitely a strong word indicates StarCraft 2. But it was nomorlized to 2. Again it indicates the nomorlization is not good\n",
        "\n"
      ]
    },
    {
      "metadata": {
        "id": "fl0zCnUkcqxi",
        "colab_type": "text"
      },
      "cell_type": "markdown",
      "source": [
        "#### Add new features"
      ]
    },
    {
      "metadata": {
        "id": "MkrGv8AAQuDs",
        "colab_type": "code",
        "outputId": "b841d5a4-bc3b-4584-c50a-8309325f67eb",
        "colab": {
          "base_uri": "https://localhost:8080/",
          "height": 102
        }
      },
      "cell_type": "code",
      "source": [
        "!pip install vaderSentiment"
      ],
      "execution_count": 0,
      "outputs": [
        {
          "output_type": "stream",
          "text": [
            "Collecting vaderSentiment\n",
            "\u001b[?25l  Downloading https://files.pythonhosted.org/packages/86/9e/c53e1fc61aac5ee490a6ac5e21b1ac04e55a7c2aba647bb8411c9aadf24e/vaderSentiment-3.2.1-py2.py3-none-any.whl (125kB)\n",
            "\u001b[K    100% |████████████████████████████████| 133kB 4.4MB/s \n",
            "\u001b[?25hInstalling collected packages: vaderSentiment\n",
            "Successfully installed vaderSentiment-3.2.1\n"
          ],
          "name": "stdout"
        }
      ]
    },
    {
      "metadata": {
        "id": "7DA6wCQSQuLz",
        "colab_type": "code",
        "colab": {}
      },
      "cell_type": "code",
      "source": [
        "from vaderSentiment.vaderSentiment import SentimentIntensityAnalyzer\n",
        "analyzer = SentimentIntensityAnalyzer()\n",
        "def addvaderSentiment(data):\n",
        "  vaderSentiment=list()\n",
        "  for sentence in data['posts']:    \n",
        "    vs = analyzer.polarity_scores(sentence)\n",
        "    vaderSentiment.append(vs[\"compound\"])\n",
        "  data[\"vaderSentiment\"]=vaderSentiment\n",
        "  "
      ],
      "execution_count": 0,
      "outputs": []
    },
    {
      "metadata": {
        "id": "TtpCQBSITeyD",
        "colab_type": "code",
        "colab": {}
      },
      "cell_type": "code",
      "source": [
        "addvaderSentiment(test_data)\n",
        "addvaderSentiment(train_data)"
      ],
      "execution_count": 0,
      "outputs": []
    },
    {
      "metadata": {
        "id": "OXqaVRl5U9pT",
        "colab_type": "code",
        "outputId": "29f6a840-f6fe-4a18-9a51-8b9a1d7ad86f",
        "colab": {
          "base_uri": "https://localhost:8080/",
          "height": 1969
        }
      },
      "cell_type": "code",
      "source": [
        ""
      ],
      "execution_count": 0,
      "outputs": [
        {
          "output_type": "execute_result",
          "data": {
            "text/html": [
              "<div>\n",
              "<style scoped>\n",
              "    .dataframe tbody tr th:only-of-type {\n",
              "        vertical-align: middle;\n",
              "    }\n",
              "\n",
              "    .dataframe tbody tr th {\n",
              "        vertical-align: top;\n",
              "    }\n",
              "\n",
              "    .dataframe thead th {\n",
              "        text-align: right;\n",
              "    }\n",
              "</style>\n",
              "<table border=\"1\" class=\"dataframe\">\n",
              "  <thead>\n",
              "    <tr style=\"text-align: right;\">\n",
              "      <th></th>\n",
              "      <th>title</th>\n",
              "      <th>posts</th>\n",
              "      <th>author</th>\n",
              "      <th>subreddit</th>\n",
              "      <th>vaderSentiment</th>\n",
              "    </tr>\n",
              "  </thead>\n",
              "  <tbody>\n",
              "    <tr>\n",
              "      <th>2</th>\n",
              "      <td>Where do memes go when they die?</td>\n",
              "      <td>Facebook 9gag Memes never truly die Dickbutt ...</td>\n",
              "      <td>Leisure321 Zeolance Buttersgoo23 quzimaa Escap...</td>\n",
              "      <td>askreddit</td>\n",
              "      <td>0.1877</td>\n",
              "    </tr>\n",
              "    <tr>\n",
              "      <th>10</th>\n",
              "      <td>Should I tip furniture delivery folk?</td>\n",
              "      <td>I've purchased a large quantity of furniture, ...</td>\n",
              "      <td>throwaway51711 Lorimor Lorimor GCanuck throwaw...</td>\n",
              "      <td>askreddit</td>\n",
              "      <td>0.5574</td>\n",
              "    </tr>\n",
              "    <tr>\n",
              "      <th>16</th>\n",
              "      <td>People of Reddit: What Great Lectures or Talks...</td>\n",
              "      <td>What are some good/interesting talks or lectur...</td>\n",
              "      <td>CalonTost Winkn cantthinkofaCO0Lname badmak ka...</td>\n",
              "      <td>askreddit</td>\n",
              "      <td>0.9878</td>\n",
              "    </tr>\n",
              "    <tr>\n",
              "      <th>21</th>\n",
              "      <td>What is a good book to you?</td>\n",
              "      <td>Fear and Loathing in Las Vegas Tales of a four...</td>\n",
              "      <td>Hlaufenberg Noomsi jeffreyharharwood sco154</td>\n",
              "      <td>askreddit</td>\n",
              "      <td>-0.8519</td>\n",
              "    </tr>\n",
              "    <tr>\n",
              "      <th>26</th>\n",
              "      <td>If you could only visit 5 websites for the res...</td>\n",
              "      <td>No loopholes like \"hurr duurrrr I'd choose goo...</td>\n",
              "      <td>French87 LakeAndTheRiver dumandizzy inclinedto...</td>\n",
              "      <td>askreddit</td>\n",
              "      <td>0.5562</td>\n",
              "    </tr>\n",
              "    <tr>\n",
              "      <th>27</th>\n",
              "      <td>What is your mental landscape while you dream?</td>\n",
              "      <td>Places where I go often. Local stores, home, s...</td>\n",
              "      <td>thejumpingasian QwertyPoint TheUnheard blah_bl...</td>\n",
              "      <td>askreddit</td>\n",
              "      <td>0.9790</td>\n",
              "    </tr>\n",
              "    <tr>\n",
              "      <th>28</th>\n",
              "      <td>Sociopaths of Reddit, assuming you have no emp...</td>\n",
              "      <td>Myself.  Sociopaths don't necessarily like th...</td>\n",
              "      <td>aminakoydum random_____user elvagabundotonto a...</td>\n",
              "      <td>askreddit</td>\n",
              "      <td>-0.2259</td>\n",
              "    </tr>\n",
              "    <tr>\n",
              "      <th>38</th>\n",
              "      <td>Reddit, how would you take over the world?</td>\n",
              "      <td>If you could be whoever you want, wherever you...</td>\n",
              "      <td>zenflight gtfb96 Not_A_Facehugger goatsanddrag...</td>\n",
              "      <td>askreddit</td>\n",
              "      <td>0.2805</td>\n",
              "    </tr>\n",
              "    <tr>\n",
              "      <th>51</th>\n",
              "      <td>What comes to mind when you hear the word \"moi...</td>\n",
              "      <td>Coffee cake.  Vagina flavoured coffee cake. MO...</td>\n",
              "      <td>Slimpikin jbOOgi3 Fogharballs CaneUKRM any_dan...</td>\n",
              "      <td>askreddit</td>\n",
              "      <td>-0.8999</td>\n",
              "    </tr>\n",
              "    <tr>\n",
              "      <th>52</th>\n",
              "      <td>What's your favorite book, show or movie line ...</td>\n",
              "      <td>Basically, whats your favorite quote from some...</td>\n",
              "      <td>Caterkiller slapped_monkey bosssauce316 mybron...</td>\n",
              "      <td>askreddit</td>\n",
              "      <td>0.9466</td>\n",
              "    </tr>\n",
              "    <tr>\n",
              "      <th>56</th>\n",
              "      <td>Why are people more likely to cut in front of ...</td>\n",
              "      <td>Same reason they'll insult you on the interne...</td>\n",
              "      <td>gremlin05 Leaflock essteeeeveeeeen Clover1492 ...</td>\n",
              "      <td>askreddit</td>\n",
              "      <td>0.1260</td>\n",
              "    </tr>\n",
              "    <tr>\n",
              "      <th>57</th>\n",
              "      <td>What's the most respected job in your country?</td>\n",
              "      <td>What country are you in? Bar man Says it like...</td>\n",
              "      <td>GooLuster rileymanrr AlcoholicIrishMan Ask_If_...</td>\n",
              "      <td>askreddit</td>\n",
              "      <td>0.0000</td>\n",
              "    </tr>\n",
              "    <tr>\n",
              "      <th>58</th>\n",
              "      <td>Do you use cannabis daily?</td>\n",
              "      <td>I used to. I mean I still do, but I used to to...</td>\n",
              "      <td>psychologyfox ShadyEOD SubatomicGoblin Jkr99 T...</td>\n",
              "      <td>askreddit</td>\n",
              "      <td>0.6419</td>\n",
              "    </tr>\n",
              "    <tr>\n",
              "      <th>60</th>\n",
              "      <td>Airplane Black Boxes</td>\n",
              "      <td>So, does anyone on Reddit know why Airplanes c...</td>\n",
              "      <td>Daryonic henleyregatta Daryonic kpeee Daryonic...</td>\n",
              "      <td>askreddit</td>\n",
              "      <td>0.9095</td>\n",
              "    </tr>\n",
              "    <tr>\n",
              "      <th>61</th>\n",
              "      <td>What is the craziest/most important thing you ...</td>\n",
              "      <td>I just slept through class which gave me the i...</td>\n",
              "      <td>stigbeatsvettel Rust02945 stigbeatsvettel tall...</td>\n",
              "      <td>askreddit</td>\n",
              "      <td>0.5944</td>\n",
              "    </tr>\n",
              "    <tr>\n",
              "      <th>63</th>\n",
              "      <td>[serious] Is there a word for someone or the a...</td>\n",
              "      <td>seriously, there's got to be a word or at leas...</td>\n",
              "      <td>callme555-5555 silverblaze92 time2adjust aleag...</td>\n",
              "      <td>askreddit</td>\n",
              "      <td>0.9820</td>\n",
              "    </tr>\n",
              "    <tr>\n",
              "      <th>74</th>\n",
              "      <td>[Serious] When did you realize that your paren...</td>\n",
              "      <td>When I was much much younger my mother was str...</td>\n",
              "      <td>Lol_jk_Omg IndigoMontigo The_Hippopotamoose Au...</td>\n",
              "      <td>askreddit</td>\n",
              "      <td>0.8390</td>\n",
              "    </tr>\n",
              "    <tr>\n",
              "      <th>93</th>\n",
              "      <td>Is admiring someone off Facebook creepy?</td>\n",
              "      <td>So, i wanted to ask Reddit before i do somethi...</td>\n",
              "      <td>dubstepandax RandianHero dubstepandax RandianH...</td>\n",
              "      <td>askreddit</td>\n",
              "      <td>0.9976</td>\n",
              "    </tr>\n",
              "    <tr>\n",
              "      <th>100</th>\n",
              "      <td>Whats your dumbest comment on reddit that you ...</td>\n",
              "      <td>I'll delete an account before I delete a comme...</td>\n",
              "      <td>Brewfasa mentho-lyptus</td>\n",
              "      <td>askreddit</td>\n",
              "      <td>0.0000</td>\n",
              "    </tr>\n",
              "    <tr>\n",
              "      <th>101</th>\n",
              "      <td>What do you do to calm your brain down when yo...</td>\n",
              "      <td>in college I used to listen to piano music. No...</td>\n",
              "      <td>srade753 Jschnep JdoesDDR linxdev ElSaborAsiat...</td>\n",
              "      <td>askreddit</td>\n",
              "      <td>0.2944</td>\n",
              "    </tr>\n",
              "    <tr>\n",
              "      <th>105</th>\n",
              "      <td>What is google's answer to this question?</td>\n",
              "      <td>3 birds stoned.. Alriiight Protons.</td>\n",
              "      <td>ghibbs BallsyBiron29 pnstt</td>\n",
              "      <td>askreddit</td>\n",
              "      <td>0.0000</td>\n",
              "    </tr>\n",
              "    <tr>\n",
              "      <th>108</th>\n",
              "      <td>Is it a good thing to want money?</td>\n",
              "      <td>Not if you feel the bern. Yes. It is not a goo...</td>\n",
              "      <td>BlackMonkeyFun PlasmicDynamite Steel_Wool_Spon...</td>\n",
              "      <td>askreddit</td>\n",
              "      <td>0.2526</td>\n",
              "    </tr>\n",
              "    <tr>\n",
              "      <th>109</th>\n",
              "      <td>Do you think whatever has been happening down ...</td>\n",
              "      <td>what are your views on the same?\\nEdit:What I ...</td>\n",
              "      <td>King___Leonidas Tischlampe IbnAlWaleed Rednas8...</td>\n",
              "      <td>askreddit</td>\n",
              "      <td>-0.9934</td>\n",
              "    </tr>\n",
              "    <tr>\n",
              "      <th>115</th>\n",
              "      <td>Why don't they think it be like it is but it do?</td>\n",
              "      <td>I think it do be as it be if we not but it do...</td>\n",
              "      <td>Chicaben NotmenotyoubutI logallama Culcasi Par...</td>\n",
              "      <td>askreddit</td>\n",
              "      <td>-0.4215</td>\n",
              "    </tr>\n",
              "    <tr>\n",
              "      <th>116</th>\n",
              "      <td>[Serious] What's something that you're weren't...</td>\n",
              "      <td>Quit smoking! **Attention!** Please keep in m...</td>\n",
              "      <td>bobbydishes postmanjesus AutoModerator PM_ME_U...</td>\n",
              "      <td>askreddit</td>\n",
              "      <td>0.7416</td>\n",
              "    </tr>\n",
              "    <tr>\n",
              "      <th>118</th>\n",
              "      <td>Straight dudes of reddit, how many dudes have ...</td>\n",
              "      <td>I thought my friend was gay for awhile...... a...</td>\n",
              "      <td>whatzgood</td>\n",
              "      <td>askreddit</td>\n",
              "      <td>0.0036</td>\n",
              "    </tr>\n",
              "    <tr>\n",
              "      <th>120</th>\n",
              "      <td>Reddit, what song can you no longer bear to he...</td>\n",
              "      <td>Anything by Bruno Mars, especially Treasure a...</td>\n",
              "      <td>gioyaya RollAd20 skywaychains</td>\n",
              "      <td>askreddit</td>\n",
              "      <td>0.7681</td>\n",
              "    </tr>\n",
              "    <tr>\n",
              "      <th>136</th>\n",
              "      <td>What drug is actually relatively safe, fun, an...</td>\n",
              "      <td>Weed.\\n\\nJust try it once in your life. I rep...</td>\n",
              "      <td>_phospholipid_ PrinceRuffles36 YouFuckedUpA-Ar...</td>\n",
              "      <td>askreddit</td>\n",
              "      <td>0.5767</td>\n",
              "    </tr>\n",
              "    <tr>\n",
              "      <th>138</th>\n",
              "      <td>What is the coolest thing you've found in a th...</td>\n",
              "      <td>An unopened gtx970 still in its usual box. Go...</td>\n",
              "      <td>MrBodge Nerd_United Nerd_United lilsmudge MrBo...</td>\n",
              "      <td>askreddit</td>\n",
              "      <td>0.6310</td>\n",
              "    </tr>\n",
              "    <tr>\n",
              "      <th>143</th>\n",
              "      <td>What was the most interesting homework assignm...</td>\n",
              "      <td>I'd like to hear some stories about teachers w...</td>\n",
              "      <td>ProbablyHittingOnYou Mustard-Tiger onehundred_...</td>\n",
              "      <td>askreddit</td>\n",
              "      <td>0.9939</td>\n",
              "    </tr>\n",
              "    <tr>\n",
              "      <th>...</th>\n",
              "      <td>...</td>\n",
              "      <td>...</td>\n",
              "      <td>...</td>\n",
              "      <td>...</td>\n",
              "      <td>...</td>\n",
              "    </tr>\n",
              "    <tr>\n",
              "      <th>1337</th>\n",
              "      <td>Has there ever been a point in your life where...</td>\n",
              "      <td>In light of the wife nonchalantly hiring a hit...</td>\n",
              "      <td>tastybabysoup rogerryan22 Backpacks_Got_Jets t...</td>\n",
              "      <td>askreddit</td>\n",
              "      <td>-0.8728</td>\n",
              "    </tr>\n",
              "    <tr>\n",
              "      <th>1338</th>\n",
              "      <td>What about your childhood do you most regret? ...</td>\n",
              "      <td>I regret cheating on tests and lying to my par...</td>\n",
              "      <td>mister_pjm Said_No_Person_Ever elmaschingon mi...</td>\n",
              "      <td>askreddit</td>\n",
              "      <td>-0.9859</td>\n",
              "    </tr>\n",
              "    <tr>\n",
              "      <th>1342</th>\n",
              "      <td>Dentists of AskReddit: What can I do to whiten...</td>\n",
              "      <td>Wear yellow shirts! Semen. No problem. Not a d...</td>\n",
              "      <td>abeetzwmoots Smokyo7 wustl07 donnamon donnamon...</td>\n",
              "      <td>askreddit</td>\n",
              "      <td>0.9634</td>\n",
              "    </tr>\n",
              "    <tr>\n",
              "      <th>1343</th>\n",
              "      <td>How do you want to die?</td>\n",
              "      <td>Sleeping peacefully, not screaming and shouti...</td>\n",
              "      <td>BrandonLang porkchop_d_clown dylc mllemonique ...</td>\n",
              "      <td>askreddit</td>\n",
              "      <td>0.7688</td>\n",
              "    </tr>\n",
              "    <tr>\n",
              "      <th>1345</th>\n",
              "      <td>Did people make paper airplanes before the wri...</td>\n",
              "      <td>I know there were ideas of flight before the W...</td>\n",
              "      <td>justgotlypo1 michaelrohansmith GryphonGuitar</td>\n",
              "      <td>askreddit</td>\n",
              "      <td>0.4482</td>\n",
              "    </tr>\n",
              "    <tr>\n",
              "      <th>1349</th>\n",
              "      <td>What Inspires You?</td>\n",
              "      <td>My younger brother. He's five, I'm eighteen. I...</td>\n",
              "      <td>doctor_alligator SnowRaven combover Oscillate_...</td>\n",
              "      <td>askreddit</td>\n",
              "      <td>0.9932</td>\n",
              "    </tr>\n",
              "    <tr>\n",
              "      <th>1351</th>\n",
              "      <td>What is the best memories you have of a deceas...</td>\n",
              "      <td>Fishing and hiking with my grandfather on Hig...</td>\n",
              "      <td>kirbus1414 L4dyV4lkyr13 kirbus1414 T3XD kirbus...</td>\n",
              "      <td>askreddit</td>\n",
              "      <td>0.9874</td>\n",
              "    </tr>\n",
              "    <tr>\n",
              "      <th>1358</th>\n",
              "      <td>Which sequence of ten syllables are most worry...</td>\n",
              "      <td>La Li Lu Le Lo x2 Mother fucking Patriots. Do...</td>\n",
              "      <td>Breeze_in_the_Trees shaneo632 Doc_Whooves Hayr...</td>\n",
              "      <td>askreddit</td>\n",
              "      <td>-0.9395</td>\n",
              "    </tr>\n",
              "    <tr>\n",
              "      <th>1360</th>\n",
              "      <td>What have you been or still are addicted to?</td>\n",
              "      <td>The Computer. Reddit Barbie dolls. They're so...</td>\n",
              "      <td>PurplePains IshmaelTheJedi vmc1918 Ex-Prophete...</td>\n",
              "      <td>askreddit</td>\n",
              "      <td>-0.1038</td>\n",
              "    </tr>\n",
              "    <tr>\n",
              "      <th>1361</th>\n",
              "      <td>Besides money, what do you want 1,000 of?</td>\n",
              "      <td>Friends. \\n\\n:(\\n\\nJust kidding. Can I have 1...</td>\n",
              "      <td>ethan141998 fuska g33kch1c helium_farts Rob115...</td>\n",
              "      <td>askreddit</td>\n",
              "      <td>0.9919</td>\n",
              "    </tr>\n",
              "    <tr>\n",
              "      <th>1364</th>\n",
              "      <td>What's the most misleading book title you've e...</td>\n",
              "      <td>8th grade: Bless Me Ultima. I thought it was a...</td>\n",
              "      <td>ForwardTwo greyexpectations WoahThatsMyPecker ...</td>\n",
              "      <td>askreddit</td>\n",
              "      <td>-0.2617</td>\n",
              "    </tr>\n",
              "    <tr>\n",
              "      <th>1375</th>\n",
              "      <td>If Redditors were born in a time without inter...</td>\n",
              "      <td>Well Reddit was started with stone and chizzl...</td>\n",
              "      <td>Anonymous_Anomali SubReal87 michaelrohansmith ...</td>\n",
              "      <td>askreddit</td>\n",
              "      <td>-0.2023</td>\n",
              "    </tr>\n",
              "    <tr>\n",
              "      <th>1376</th>\n",
              "      <td>Coke or Pepsi? Why?</td>\n",
              "      <td>Inspired by that book. Which cola do you prefe...</td>\n",
              "      <td>Oblivious_Indian_Guy mothershrubber AliceShart...</td>\n",
              "      <td>askreddit</td>\n",
              "      <td>0.9956</td>\n",
              "    </tr>\n",
              "    <tr>\n",
              "      <th>1383</th>\n",
              "      <td>Reddit, what is something you already knew, bu...</td>\n",
              "      <td>Metabolism slows down after 30. Don't stop wo...</td>\n",
              "      <td>spyjdh absolutspacegirl eastsidefetus</td>\n",
              "      <td>askreddit</td>\n",
              "      <td>0.5073</td>\n",
              "    </tr>\n",
              "    <tr>\n",
              "      <th>1389</th>\n",
              "      <td>Can you spread your toes ?</td>\n",
              "      <td>Lately I found out that I simply cannot spread...</td>\n",
              "      <td>ChampionsAreJelly ApplejacksAndBoners beauty_a...</td>\n",
              "      <td>askreddit</td>\n",
              "      <td>-0.2112</td>\n",
              "    </tr>\n",
              "    <tr>\n",
              "      <th>1390</th>\n",
              "      <td>How do babies laugh/cry/burp in movies and TV ...</td>\n",
              "      <td>Multiple takes When the baby is supposed to cr...</td>\n",
              "      <td>tyhad1 EvenCrazierTheory ThereisnoTruth GhostS...</td>\n",
              "      <td>askreddit</td>\n",
              "      <td>-0.7054</td>\n",
              "    </tr>\n",
              "    <tr>\n",
              "      <th>1391</th>\n",
              "      <td>How do you clean your jiggly bits?</td>\n",
              "      <td>Steel wool and sandpaper.  And a lighter in t...</td>\n",
              "      <td>Scott_Sierra average_guy31 a_stray_bullet _Hol...</td>\n",
              "      <td>askreddit</td>\n",
              "      <td>0.9409</td>\n",
              "    </tr>\n",
              "    <tr>\n",
              "      <th>1393</th>\n",
              "      <td>Reddit, is it time to end things?</td>\n",
              "      <td>I'm 16 and have been with my girlfriend for 2 ...</td>\n",
              "      <td>llamallama90 DaFiucciur RecDep poooboy red321r...</td>\n",
              "      <td>askreddit</td>\n",
              "      <td>0.7326</td>\n",
              "    </tr>\n",
              "    <tr>\n",
              "      <th>1395</th>\n",
              "      <td>What songs would be on the reddit sound track?</td>\n",
              "      <td>[Say Say Say by Paul McCartney and Michael Ja...</td>\n",
              "      <td>linus81 CAN_ZIGZAG xxmindtrickxx mremaids</td>\n",
              "      <td>askreddit</td>\n",
              "      <td>0.0000</td>\n",
              "    </tr>\n",
              "    <tr>\n",
              "      <th>1397</th>\n",
              "      <td>Reddit, do you know for a fact, that just beca...</td>\n",
              "      <td>Well does it? I'm not interested in joining an...</td>\n",
              "      <td>FancyCola FancyCola adventurefuntime CheeseNBa...</td>\n",
              "      <td>askreddit</td>\n",
              "      <td>0.9492</td>\n",
              "    </tr>\n",
              "    <tr>\n",
              "      <th>1409</th>\n",
              "      <td>Reddit, what hangs on your keychain?</td>\n",
              "      <td>Pictures would be cool! Super Mario!\\n\\nhttp:/...</td>\n",
              "      <td>lquez msimon82 edgebigfan ariheretic lquez edg...</td>\n",
              "      <td>askreddit</td>\n",
              "      <td>0.7887</td>\n",
              "    </tr>\n",
              "    <tr>\n",
              "      <th>1420</th>\n",
              "      <td>What reminds you that the internet isn't a saf...</td>\n",
              "      <td>4chan Comments sections on any news site. You'...</td>\n",
              "      <td>tinycraft jpn4575 thewisebadger 10_Virtues Cry...</td>\n",
              "      <td>askreddit</td>\n",
              "      <td>-0.9939</td>\n",
              "    </tr>\n",
              "    <tr>\n",
              "      <th>1421</th>\n",
              "      <td>Should something be done about the majority of...</td>\n",
              "      <td>Unfortunately there isn't really much we can d...</td>\n",
              "      <td>Atheizt WyattFunderburk howusaythrowaway fulls...</td>\n",
              "      <td>askreddit</td>\n",
              "      <td>0.9909</td>\n",
              "    </tr>\n",
              "    <tr>\n",
              "      <th>1425</th>\n",
              "      <td>Why is your job the best job ever?</td>\n",
              "      <td>Cause I like 90% of the people I work with. L...</td>\n",
              "      <td>titaniumuinatit Klove128 snazzysportstacker</td>\n",
              "      <td>askreddit</td>\n",
              "      <td>0.5023</td>\n",
              "    </tr>\n",
              "    <tr>\n",
              "      <th>1428</th>\n",
              "      <td>Why do I feel like such a creep when I watch a...</td>\n",
              "      <td>White guy, university student in north america...</td>\n",
              "      <td>Im_not_creepy_am_I cdude HastaLasagna cdude Im...</td>\n",
              "      <td>askreddit</td>\n",
              "      <td>0.9965</td>\n",
              "    </tr>\n",
              "    <tr>\n",
              "      <th>1432</th>\n",
              "      <td>Math is not my subject, so I need help with th...</td>\n",
              "      <td>[Youtube link - Android Unlock](http://www.you...</td>\n",
              "      <td>tatom TRUBored gumpy5 T400 gumpy5 T400</td>\n",
              "      <td>askreddit</td>\n",
              "      <td>0.8090</td>\n",
              "    </tr>\n",
              "    <tr>\n",
              "      <th>1436</th>\n",
              "      <td>Who is a popular musician/band in your country...</td>\n",
              "      <td>Mainly aiming this at non British/US Redditors...</td>\n",
              "      <td>BlueD_ Munchman5000 BlueD_ Munchman5000 Munchm...</td>\n",
              "      <td>askreddit</td>\n",
              "      <td>0.9861</td>\n",
              "    </tr>\n",
              "    <tr>\n",
              "      <th>1441</th>\n",
              "      <td>Reddit, whats the strangest thing you have see...</td>\n",
              "      <td>I *always* find it strange when a couple gets...</td>\n",
              "      <td>ClavicleRub twelvedayslate Blue_Stuff pridwyn ...</td>\n",
              "      <td>askreddit</td>\n",
              "      <td>0.9945</td>\n",
              "    </tr>\n",
              "    <tr>\n",
              "      <th>1443</th>\n",
              "      <td>For Redditors with girlfriends, what was the f...</td>\n",
              "      <td>\"eyy bby wnt sum fuk?\" \"Sucky! Sucky! Five dol...</td>\n",
              "      <td>Viperking5 taichi_duck Eternal_Princess_Jam Pr...</td>\n",
              "      <td>askreddit</td>\n",
              "      <td>0.9307</td>\n",
              "    </tr>\n",
              "    <tr>\n",
              "      <th>1446</th>\n",
              "      <td>What makes you want to get out of bed? [serious]</td>\n",
              "      <td>What drives you? What makes you wanna push for...</td>\n",
              "      <td>what_the_rock_cooked Nambot what_the_rock_cook...</td>\n",
              "      <td>askreddit</td>\n",
              "      <td>0.9944</td>\n",
              "    </tr>\n",
              "  </tbody>\n",
              "</table>\n",
              "<p>334 rows × 5 columns</p>\n",
              "</div>"
            ],
            "text/plain": [
              "                                                  title  \\\n",
              "2                      Where do memes go when they die?   \n",
              "10                Should I tip furniture delivery folk?   \n",
              "16    People of Reddit: What Great Lectures or Talks...   \n",
              "21                          What is a good book to you?   \n",
              "26    If you could only visit 5 websites for the res...   \n",
              "27       What is your mental landscape while you dream?   \n",
              "28    Sociopaths of Reddit, assuming you have no emp...   \n",
              "38           Reddit, how would you take over the world?   \n",
              "51    What comes to mind when you hear the word \"moi...   \n",
              "52    What's your favorite book, show or movie line ...   \n",
              "56    Why are people more likely to cut in front of ...   \n",
              "57       What's the most respected job in your country?   \n",
              "58                           Do you use cannabis daily?   \n",
              "60                                 Airplane Black Boxes   \n",
              "61    What is the craziest/most important thing you ...   \n",
              "63    [serious] Is there a word for someone or the a...   \n",
              "74    [Serious] When did you realize that your paren...   \n",
              "93             Is admiring someone off Facebook creepy?   \n",
              "100   Whats your dumbest comment on reddit that you ...   \n",
              "101   What do you do to calm your brain down when yo...   \n",
              "105           What is google's answer to this question?   \n",
              "108                   Is it a good thing to want money?   \n",
              "109   Do you think whatever has been happening down ...   \n",
              "115    Why don't they think it be like it is but it do?   \n",
              "116   [Serious] What's something that you're weren't...   \n",
              "118   Straight dudes of reddit, how many dudes have ...   \n",
              "120   Reddit, what song can you no longer bear to he...   \n",
              "136   What drug is actually relatively safe, fun, an...   \n",
              "138   What is the coolest thing you've found in a th...   \n",
              "143   What was the most interesting homework assignm...   \n",
              "...                                                 ...   \n",
              "1337  Has there ever been a point in your life where...   \n",
              "1338  What about your childhood do you most regret? ...   \n",
              "1342  Dentists of AskReddit: What can I do to whiten...   \n",
              "1343                            How do you want to die?   \n",
              "1345  Did people make paper airplanes before the wri...   \n",
              "1349                                 What Inspires You?   \n",
              "1351  What is the best memories you have of a deceas...   \n",
              "1358  Which sequence of ten syllables are most worry...   \n",
              "1360       What have you been or still are addicted to?   \n",
              "1361          Besides money, what do you want 1,000 of?   \n",
              "1364  What's the most misleading book title you've e...   \n",
              "1375  If Redditors were born in a time without inter...   \n",
              "1376                                Coke or Pepsi? Why?   \n",
              "1383  Reddit, what is something you already knew, bu...   \n",
              "1389                         Can you spread your toes ?   \n",
              "1390  How do babies laugh/cry/burp in movies and TV ...   \n",
              "1391                 How do you clean your jiggly bits?   \n",
              "1393                  Reddit, is it time to end things?   \n",
              "1395     What songs would be on the reddit sound track?   \n",
              "1397  Reddit, do you know for a fact, that just beca...   \n",
              "1409               Reddit, what hangs on your keychain?   \n",
              "1420  What reminds you that the internet isn't a saf...   \n",
              "1421  Should something be done about the majority of...   \n",
              "1425                 Why is your job the best job ever?   \n",
              "1428  Why do I feel like such a creep when I watch a...   \n",
              "1432  Math is not my subject, so I need help with th...   \n",
              "1436  Who is a popular musician/band in your country...   \n",
              "1441  Reddit, whats the strangest thing you have see...   \n",
              "1443  For Redditors with girlfriends, what was the f...   \n",
              "1446   What makes you want to get out of bed? [serious]   \n",
              "\n",
              "                                                  posts  \\\n",
              "2      Facebook 9gag Memes never truly die Dickbutt ...   \n",
              "10    I've purchased a large quantity of furniture, ...   \n",
              "16    What are some good/interesting talks or lectur...   \n",
              "21    Fear and Loathing in Las Vegas Tales of a four...   \n",
              "26    No loopholes like \"hurr duurrrr I'd choose goo...   \n",
              "27    Places where I go often. Local stores, home, s...   \n",
              "28     Myself.  Sociopaths don't necessarily like th...   \n",
              "38    If you could be whoever you want, wherever you...   \n",
              "51    Coffee cake.  Vagina flavoured coffee cake. MO...   \n",
              "52    Basically, whats your favorite quote from some...   \n",
              "56     Same reason they'll insult you on the interne...   \n",
              "57     What country are you in? Bar man Says it like...   \n",
              "58    I used to. I mean I still do, but I used to to...   \n",
              "60    So, does anyone on Reddit know why Airplanes c...   \n",
              "61    I just slept through class which gave me the i...   \n",
              "63    seriously, there's got to be a word or at leas...   \n",
              "74    When I was much much younger my mother was str...   \n",
              "93    So, i wanted to ask Reddit before i do somethi...   \n",
              "100   I'll delete an account before I delete a comme...   \n",
              "101   in college I used to listen to piano music. No...   \n",
              "105                3 birds stoned.. Alriiight Protons.    \n",
              "108   Not if you feel the bern. Yes. It is not a goo...   \n",
              "109   what are your views on the same?\\nEdit:What I ...   \n",
              "115    I think it do be as it be if we not but it do...   \n",
              "116    Quit smoking! **Attention!** Please keep in m...   \n",
              "118   I thought my friend was gay for awhile...... a...   \n",
              "120    Anything by Bruno Mars, especially Treasure a...   \n",
              "136    Weed.\\n\\nJust try it once in your life. I rep...   \n",
              "138    An unopened gtx970 still in its usual box. Go...   \n",
              "143   I'd like to hear some stories about teachers w...   \n",
              "...                                                 ...   \n",
              "1337  In light of the wife nonchalantly hiring a hit...   \n",
              "1338  I regret cheating on tests and lying to my par...   \n",
              "1342  Wear yellow shirts! Semen. No problem. Not a d...   \n",
              "1343   Sleeping peacefully, not screaming and shouti...   \n",
              "1345  I know there were ideas of flight before the W...   \n",
              "1349  My younger brother. He's five, I'm eighteen. I...   \n",
              "1351   Fishing and hiking with my grandfather on Hig...   \n",
              "1358   La Li Lu Le Lo x2 Mother fucking Patriots. Do...   \n",
              "1360   The Computer. Reddit Barbie dolls. They're so...   \n",
              "1361   Friends. \\n\\n:(\\n\\nJust kidding. Can I have 1...   \n",
              "1364  8th grade: Bless Me Ultima. I thought it was a...   \n",
              "1375   Well Reddit was started with stone and chizzl...   \n",
              "1376  Inspired by that book. Which cola do you prefe...   \n",
              "1383   Metabolism slows down after 30. Don't stop wo...   \n",
              "1389  Lately I found out that I simply cannot spread...   \n",
              "1390  Multiple takes When the baby is supposed to cr...   \n",
              "1391   Steel wool and sandpaper.  And a lighter in t...   \n",
              "1393  I'm 16 and have been with my girlfriend for 2 ...   \n",
              "1395   [Say Say Say by Paul McCartney and Michael Ja...   \n",
              "1397  Well does it? I'm not interested in joining an...   \n",
              "1409  Pictures would be cool! Super Mario!\\n\\nhttp:/...   \n",
              "1420  4chan Comments sections on any news site. You'...   \n",
              "1421  Unfortunately there isn't really much we can d...   \n",
              "1425   Cause I like 90% of the people I work with. L...   \n",
              "1428  White guy, university student in north america...   \n",
              "1432  [Youtube link - Android Unlock](http://www.you...   \n",
              "1436  Mainly aiming this at non British/US Redditors...   \n",
              "1441   I *always* find it strange when a couple gets...   \n",
              "1443  \"eyy bby wnt sum fuk?\" \"Sucky! Sucky! Five dol...   \n",
              "1446  What drives you? What makes you wanna push for...   \n",
              "\n",
              "                                                 author  subreddit  \\\n",
              "2     Leisure321 Zeolance Buttersgoo23 quzimaa Escap...  askreddit   \n",
              "10    throwaway51711 Lorimor Lorimor GCanuck throwaw...  askreddit   \n",
              "16    CalonTost Winkn cantthinkofaCO0Lname badmak ka...  askreddit   \n",
              "21         Hlaufenberg Noomsi jeffreyharharwood sco154   askreddit   \n",
              "26    French87 LakeAndTheRiver dumandizzy inclinedto...  askreddit   \n",
              "27    thejumpingasian QwertyPoint TheUnheard blah_bl...  askreddit   \n",
              "28    aminakoydum random_____user elvagabundotonto a...  askreddit   \n",
              "38    zenflight gtfb96 Not_A_Facehugger goatsanddrag...  askreddit   \n",
              "51    Slimpikin jbOOgi3 Fogharballs CaneUKRM any_dan...  askreddit   \n",
              "52    Caterkiller slapped_monkey bosssauce316 mybron...  askreddit   \n",
              "56    gremlin05 Leaflock essteeeeveeeeen Clover1492 ...  askreddit   \n",
              "57    GooLuster rileymanrr AlcoholicIrishMan Ask_If_...  askreddit   \n",
              "58    psychologyfox ShadyEOD SubatomicGoblin Jkr99 T...  askreddit   \n",
              "60    Daryonic henleyregatta Daryonic kpeee Daryonic...  askreddit   \n",
              "61    stigbeatsvettel Rust02945 stigbeatsvettel tall...  askreddit   \n",
              "63    callme555-5555 silverblaze92 time2adjust aleag...  askreddit   \n",
              "74    Lol_jk_Omg IndigoMontigo The_Hippopotamoose Au...  askreddit   \n",
              "93    dubstepandax RandianHero dubstepandax RandianH...  askreddit   \n",
              "100                             Brewfasa mentho-lyptus   askreddit   \n",
              "101   srade753 Jschnep JdoesDDR linxdev ElSaborAsiat...  askreddit   \n",
              "105                         ghibbs BallsyBiron29 pnstt   askreddit   \n",
              "108   BlackMonkeyFun PlasmicDynamite Steel_Wool_Spon...  askreddit   \n",
              "109   King___Leonidas Tischlampe IbnAlWaleed Rednas8...  askreddit   \n",
              "115   Chicaben NotmenotyoubutI logallama Culcasi Par...  askreddit   \n",
              "116   bobbydishes postmanjesus AutoModerator PM_ME_U...  askreddit   \n",
              "118                                          whatzgood   askreddit   \n",
              "120                      gioyaya RollAd20 skywaychains   askreddit   \n",
              "136   _phospholipid_ PrinceRuffles36 YouFuckedUpA-Ar...  askreddit   \n",
              "138   MrBodge Nerd_United Nerd_United lilsmudge MrBo...  askreddit   \n",
              "143   ProbablyHittingOnYou Mustard-Tiger onehundred_...  askreddit   \n",
              "...                                                 ...        ...   \n",
              "1337  tastybabysoup rogerryan22 Backpacks_Got_Jets t...  askreddit   \n",
              "1338  mister_pjm Said_No_Person_Ever elmaschingon mi...  askreddit   \n",
              "1342  abeetzwmoots Smokyo7 wustl07 donnamon donnamon...  askreddit   \n",
              "1343  BrandonLang porkchop_d_clown dylc mllemonique ...  askreddit   \n",
              "1345      justgotlypo1 michaelrohansmith GryphonGuitar   askreddit   \n",
              "1349  doctor_alligator SnowRaven combover Oscillate_...  askreddit   \n",
              "1351  kirbus1414 L4dyV4lkyr13 kirbus1414 T3XD kirbus...  askreddit   \n",
              "1358  Breeze_in_the_Trees shaneo632 Doc_Whooves Hayr...  askreddit   \n",
              "1360  PurplePains IshmaelTheJedi vmc1918 Ex-Prophete...  askreddit   \n",
              "1361  ethan141998 fuska g33kch1c helium_farts Rob115...  askreddit   \n",
              "1364  ForwardTwo greyexpectations WoahThatsMyPecker ...  askreddit   \n",
              "1375  Anonymous_Anomali SubReal87 michaelrohansmith ...  askreddit   \n",
              "1376  Oblivious_Indian_Guy mothershrubber AliceShart...  askreddit   \n",
              "1383             spyjdh absolutspacegirl eastsidefetus   askreddit   \n",
              "1389  ChampionsAreJelly ApplejacksAndBoners beauty_a...  askreddit   \n",
              "1390  tyhad1 EvenCrazierTheory ThereisnoTruth GhostS...  askreddit   \n",
              "1391  Scott_Sierra average_guy31 a_stray_bullet _Hol...  askreddit   \n",
              "1393  llamallama90 DaFiucciur RecDep poooboy red321r...  askreddit   \n",
              "1395         linus81 CAN_ZIGZAG xxmindtrickxx mremaids   askreddit   \n",
              "1397  FancyCola FancyCola adventurefuntime CheeseNBa...  askreddit   \n",
              "1409  lquez msimon82 edgebigfan ariheretic lquez edg...  askreddit   \n",
              "1420  tinycraft jpn4575 thewisebadger 10_Virtues Cry...  askreddit   \n",
              "1421  Atheizt WyattFunderburk howusaythrowaway fulls...  askreddit   \n",
              "1425       titaniumuinatit Klove128 snazzysportstacker   askreddit   \n",
              "1428  Im_not_creepy_am_I cdude HastaLasagna cdude Im...  askreddit   \n",
              "1432            tatom TRUBored gumpy5 T400 gumpy5 T400   askreddit   \n",
              "1436  BlueD_ Munchman5000 BlueD_ Munchman5000 Munchm...  askreddit   \n",
              "1441  ClavicleRub twelvedayslate Blue_Stuff pridwyn ...  askreddit   \n",
              "1443  Viperking5 taichi_duck Eternal_Princess_Jam Pr...  askreddit   \n",
              "1446  what_the_rock_cooked Nambot what_the_rock_cook...  askreddit   \n",
              "\n",
              "      vaderSentiment  \n",
              "2             0.1877  \n",
              "10            0.5574  \n",
              "16            0.9878  \n",
              "21           -0.8519  \n",
              "26            0.5562  \n",
              "27            0.9790  \n",
              "28           -0.2259  \n",
              "38            0.2805  \n",
              "51           -0.8999  \n",
              "52            0.9466  \n",
              "56            0.1260  \n",
              "57            0.0000  \n",
              "58            0.6419  \n",
              "60            0.9095  \n",
              "61            0.5944  \n",
              "63            0.9820  \n",
              "74            0.8390  \n",
              "93            0.9976  \n",
              "100           0.0000  \n",
              "101           0.2944  \n",
              "105           0.0000  \n",
              "108           0.2526  \n",
              "109          -0.9934  \n",
              "115          -0.4215  \n",
              "116           0.7416  \n",
              "118           0.0036  \n",
              "120           0.7681  \n",
              "136           0.5767  \n",
              "138           0.6310  \n",
              "143           0.9939  \n",
              "...              ...  \n",
              "1337         -0.8728  \n",
              "1338         -0.9859  \n",
              "1342          0.9634  \n",
              "1343          0.7688  \n",
              "1345          0.4482  \n",
              "1349          0.9932  \n",
              "1351          0.9874  \n",
              "1358         -0.9395  \n",
              "1360         -0.1038  \n",
              "1361          0.9919  \n",
              "1364         -0.2617  \n",
              "1375         -0.2023  \n",
              "1376          0.9956  \n",
              "1383          0.5073  \n",
              "1389         -0.2112  \n",
              "1390         -0.7054  \n",
              "1391          0.9409  \n",
              "1393          0.7326  \n",
              "1395          0.0000  \n",
              "1397          0.9492  \n",
              "1409          0.7887  \n",
              "1420         -0.9939  \n",
              "1421          0.9909  \n",
              "1425          0.5023  \n",
              "1428          0.9965  \n",
              "1432          0.8090  \n",
              "1436          0.9861  \n",
              "1441          0.9945  \n",
              "1443          0.9307  \n",
              "1446          0.9944  \n",
              "\n",
              "[334 rows x 5 columns]"
            ]
          },
          "metadata": {
            "tags": []
          },
          "execution_count": 365
        }
      ]
    },
    {
      "metadata": {
        "id": "D-G938e8D5qn",
        "colab_type": "text"
      },
      "cell_type": "markdown",
      "source": [
        "## Part B: Discourse prediction ##"
      ]
    },
    {
      "metadata": {
        "id": "9KM6aJtSETPY",
        "colab_type": "code",
        "colab": {}
      },
      "cell_type": "code",
      "source": [
        "discourse_train = \"coursework_discourse_train.json\"\n",
        "discourse_test = \"coursework_discourse_test.json\"\n",
        "  \n",
        "!gsutil cp gs://textasdata/coursework/coursework_discourse_train.json $discourse_train  \n",
        "!gsutil cp gs://textasdata/coursework/coursework_discourse_test.json  $discourse_test"
      ],
      "execution_count": 0,
      "outputs": []
    },
    {
      "metadata": {
        "id": "pwOaf_6aD-Vh",
        "colab_type": "code",
        "colab": {}
      },
      "cell_type": "code",
      "source": [
        "# The reddit thread structure is nested with posts in a new content.\n",
        "# This block reads the file as json and creates a new data frame.\n",
        "import pandas as pd\n",
        "import json\n",
        "\n",
        "def load_posts(file):\n",
        "  # A temporary variable to store the list of post content.\n",
        "  posts_tmp = list()\n",
        "\n",
        "  with open(file) as jsonfile:\n",
        "    for i, line in enumerate(jsonfile):\n",
        "     # if (i > 2): break\n",
        "      thread = json.loads(line)\n",
        "      for post in thread['posts']:\n",
        "        # NOTE: This could be changed to use additional features from the post or thread.\n",
        "        # DO NOT change the labels for the test set.\n",
        "        posts_tmp.append((thread['subreddit'], thread['title'], thread['url'],\n",
        "                        post['id'], post.get('author', \"\"), post.get('body', \"\"), post.get(\"majority_link\", \"\"), \n",
        "                        post.get('post_depth', 0), post.get('majority_type', \"\"), # discourse type label \n",
        "                        post.get('in_reply_to', \"\") ))\n",
        "\n",
        "# Create the posts data frame.  \n",
        "  labels = ['subreddit', 'title', 'url', 'id', 'author', 'body', 'majority_link', \n",
        "          'post_depth', 'discourse_type', 'in_reply_to']\n",
        "  return pd.DataFrame(posts_tmp, columns=labels)"
      ],
      "execution_count": 0,
      "outputs": []
    },
    {
      "metadata": {
        "id": "PDzHTDcmEQ11",
        "colab_type": "code",
        "colab": {}
      },
      "cell_type": "code",
      "source": [
        "train_posts = load_posts(discourse_train)\n",
        "# Filter out empty labels\n",
        "train_posts = train_posts[train_posts['discourse_type'] != \"\"]\n",
        "print(train_posts.head())\n",
        "print(\"Num posts: \", train_posts.size)"
      ],
      "execution_count": 0,
      "outputs": []
    },
    {
      "metadata": {
        "id": "dqGLzyTOGadY",
        "colab_type": "text"
      },
      "cell_type": "markdown",
      "source": [
        "The label for the post we will be predicting is in the discourse_type column."
      ]
    },
    {
      "metadata": {
        "id": "7vvo7hfCEmvj",
        "colab_type": "code",
        "colab": {}
      },
      "cell_type": "code",
      "source": [
        "test_posts = load_posts(discourse_test)\n",
        "# Filter out empty labels\n",
        "test_posts = test_posts[test_posts['discourse_type'] != \"\"]\n",
        "print(\"Num posts: \", test_posts.size)\n"
      ],
      "execution_count": 0,
      "outputs": []
    },
    {
      "metadata": {
        "id": "Jat55HhNHGBp",
        "colab_type": "code",
        "colab": {}
      },
      "cell_type": "code",
      "source": [
        "train_labels = train_posts['discourse_type']\n",
        "test_labels = test_posts['discourse_type']"
      ],
      "execution_count": 0,
      "outputs": []
    },
    {
      "metadata": {
        "id": "rFl6sM58HNFp",
        "colab_type": "text"
      },
      "cell_type": "markdown",
      "source": [
        "Examine the distribution over labels on the training data."
      ]
    },
    {
      "metadata": {
        "id": "n3NbLPBhFOkp",
        "colab_type": "code",
        "colab": {}
      },
      "cell_type": "code",
      "source": [
        "discourse_counts = train_labels.value_counts()\n",
        "print(discourse_counts.describe())\n",
        "\n",
        "top_discourse = discourse_counts.nlargest(200)\n",
        "print(top_discourse)\n",
        "top_discourse = top_discourse.index.tolist()\n",
        "print(top_discourse)"
      ],
      "execution_count": 0,
      "outputs": []
    },
    {
      "metadata": {
        "id": "pbVa1fkZGHVQ",
        "colab_type": "code",
        "colab": {}
      },
      "cell_type": "code",
      "source": [
        "# Define the features\n",
        "X_train = #features from training data\n",
        "X_test = #features from test data\n",
        "\n",
        "from sklearn.dummy import DummyClassifier\n",
        "clf = DummyClassifier(strategy='stratified',random_state=0)\n",
        "clf.fit(X_train, train_posts['discourse_type'])\n",
        "predictions = clf.predict(X_test)  \n",
        "print(classification_report(predictions, test_posts['discourse_type']))"
      ],
      "execution_count": 0,
      "outputs": []
    }
  ]
}